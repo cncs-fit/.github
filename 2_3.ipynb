{
  "nbformat": 4,
  "nbformat_minor": 0,
  "metadata": {
    "colab": {
      "provenance": [],
      "authorship_tag": "ABX9TyMt74Aonxf+m3UpUFRHJ/2k",
      "include_colab_link": true
    },
    "kernelspec": {
      "name": "python3",
      "display_name": "Python 3"
    },
    "language_info": {
      "name": "python"
    }
  },
  "cells": [
    {
      "cell_type": "markdown",
      "metadata": {
        "id": "view-in-github",
        "colab_type": "text"
      },
      "source": [
        "<a href=\"https://colab.research.google.com/github/cncs-fit/.github/blob/master/2_3.ipynb\" target=\"_parent\"><img src=\"https://colab.research.google.com/assets/colab-badge.svg\" alt=\"Open In Colab\"/></a>"
      ]
    },
    {
      "cell_type": "code",
      "execution_count": 1,
      "metadata": {
        "id": "k3MZ2o4lGLho"
      },
      "outputs": [],
      "source": [
        "#練習\n",
        "def exception3(x,y,z):\n",
        "  if x==y:\n",
        "    return z\n",
        "  elif x==z:\n",
        "    return y\n",
        "  else:\n",
        "    return x"
      ]
    },
    {
      "cell_type": "code",
      "source": [
        "print(exception3(1,2,2))\n",
        "print(exception3(4,2,4))\n",
        "print(exception3(9,3,9))"
      ],
      "metadata": {
        "colab": {
          "base_uri": "https://localhost:8080/"
        },
        "id": "Xe7Y1FkDHZkm",
        "outputId": "2e316fd8-a8f9-4b46-b9d2-4edafe9410cf"
      },
      "execution_count": 2,
      "outputs": [
        {
          "output_type": "stream",
          "name": "stdout",
          "text": [
            "1\n",
            "2\n",
            "3\n"
          ]
        }
      ]
    },
    {
      "cell_type": "code",
      "source": [
        "#練習\n",
        "def exception9(a):\n",
        "  a.sort()\n",
        "  if a[0] ==a[1]:\n",
        "    return a[8]\n",
        "  else:\n",
        "    return a[0]"
      ],
      "metadata": {
        "id": "Ubg-gKTnHfrR"
      },
      "execution_count": 3,
      "outputs": []
    },
    {
      "cell_type": "code",
      "source": [
        "print(exception9([1,2,2,2,2,2,2,2,2]))\n",
        "print(exception9([4,4,4,4,4,2,4,4,4]))\n",
        "print(exception9([9,9,9,9,9,9,9,9,3]))"
      ],
      "metadata": {
        "colab": {
          "base_uri": "https://localhost:8080/"
        },
        "id": "tMMs44ykKIhZ",
        "outputId": "d14f17ff-c3eb-4cf6-adeb-7c5474eff3bf"
      },
      "execution_count": 4,
      "outputs": [
        {
          "output_type": "stream",
          "name": "stdout",
          "text": [
            "1\n",
            "2\n",
            "3\n"
          ]
        }
      ]
    },
    {
      "cell_type": "code",
      "source": [
        "#練習\n",
        "x = -1\n",
        "if x < 1:\n",
        "    print('x is less than 1')\n",
        "elif x < 2:\n",
        "    print('x is larger than or equal to 1, and less than 2')\n",
        "elif x < 3:\n",
        "    print('x is larger than or equal to 2, and less than 3')\n",
        "else:\n",
        "    print('x is larger or equal to 3')"
      ],
      "metadata": {
        "colab": {
          "base_uri": "https://localhost:8080/"
        },
        "id": "oDl1xFldKOai",
        "outputId": "3518efea-b229-4dd5-ba93-abcbf7f38ef9"
      },
      "execution_count": 5,
      "outputs": [
        {
          "output_type": "stream",
          "name": "stdout",
          "text": [
            "x is less than 1\n"
          ]
        }
      ]
    }
  ]
}