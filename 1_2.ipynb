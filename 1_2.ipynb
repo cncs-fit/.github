{
  "nbformat": 4,
  "nbformat_minor": 0,
  "metadata": {
    "colab": {
      "provenance": [],
      "authorship_tag": "ABX9TyPLpNl0kFjq7NSFFFKC2r+v",
      "include_colab_link": true
    },
    "kernelspec": {
      "name": "python3",
      "display_name": "Python 3"
    },
    "language_info": {
      "name": "python"
    }
  },
  "cells": [
    {
      "cell_type": "markdown",
      "metadata": {
        "id": "view-in-github",
        "colab_type": "text"
      },
      "source": [
        "<a href=\"https://colab.research.google.com/github/cncs-fit/.github/blob/master/1_2.ipynb\" target=\"_parent\"><img src=\"https://colab.research.google.com/assets/colab-badge.svg\" alt=\"Open In Colab\"/></a>"
      ]
    },
    {
      "cell_type": "code",
      "source": [
        "#練習\n",
        "def ft_to_cm(f,i):\n",
        "  return f*30.48 + i/12*30.48"
      ],
      "metadata": {
        "id": "pIJnwnFvQ5P4"
      },
      "execution_count": 1,
      "outputs": []
    },
    {
      "cell_type": "code",
      "source": [
        "assert round(ft_to_cm(5, 2) - 157.48, 6) == 0\n",
        "assert round(ft_to_cm(6, 5) - 195.58, 6) == 0"
      ],
      "metadata": {
        "id": "VJTo_WnaSPbl"
      },
      "execution_count": 2,
      "outputs": []
    },
    {
      "cell_type": "code",
      "execution_count": 3,
      "metadata": {
        "id": "gLoaqv4bQzWC"
      },
      "outputs": [],
      "source": [
        "#練習\n",
        "def quadratic(a,b,c,x):\n",
        "  return a*x*x + b*x + c"
      ]
    },
    {
      "cell_type": "code",
      "source": [
        "assert quadratic(1, 2, 1, 3) == 16\n",
        "assert quadratic(1, -5, -2, 7) == 12"
      ],
      "metadata": {
        "id": "9F8JKQYtSvQ5"
      },
      "execution_count": 4,
      "outputs": []
    },
    {
      "cell_type": "code",
      "source": [
        "print('abc',10)"
      ],
      "metadata": {
        "colab": {
          "base_uri": "https://localhost:8080/"
        },
        "id": "owOOE86tSys9",
        "outputId": "af317921-a113-41c4-ace4-cc237c170cf3"
      },
      "execution_count": null,
      "outputs": [
        {
          "output_type": "stream",
          "name": "stdout",
          "text": [
            "abc 10\n"
          ]
        }
      ]
    },
    {
      "cell_type": "code",
      "source": [
        "#練習\n",
        "import math\n",
        "def qe_disc(a,b,c):\n",
        "  return b*b - 4*a*c\n",
        "\n",
        "def qe_solution1(a,b,c):\n",
        "  return (-b -math.sqrt(b*b - 4*a*c))/2*a\n",
        "\n",
        "def qe_solution2(a,b,c):\n",
        "  return (-b +math.sqrt(b*b - 4*a*c))/2*a"
      ],
      "metadata": {
        "id": "wc0bxrudUCVu"
      },
      "execution_count": 5,
      "outputs": []
    },
    {
      "cell_type": "code",
      "source": [
        "assert qe_disc(1, -2, 1) == 0\n",
        "assert qe_disc(1, -5, 6) == 1\n",
        "assert round(qe_solution1(1, -2, 1) - 1, 6) == 0\n",
        "assert round(qe_solution2(1, -2, 1) - 1, 6) == 0\n",
        "assert round(qe_solution1(1, -5, 6) - 2, 6) == 0\n",
        "assert round(qe_solution2(1, -5, 6) - 3, 6) == 0"
      ],
      "metadata": {
        "id": "FaoKfg-wV_I-"
      },
      "execution_count": 6,
      "outputs": []
    }
  ]
}