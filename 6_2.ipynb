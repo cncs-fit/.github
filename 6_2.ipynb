{
  "nbformat": 4,
  "nbformat_minor": 0,
  "metadata": {
    "colab": {
      "provenance": [],
      "mount_file_id": "1HgHfs5ibACLAaHPC3uyLvVFBJcwJ9P9f",
      "authorship_tag": "ABX9TyOj8F55UsPE5vx9x8mNusU+",
      "include_colab_link": true
    },
    "kernelspec": {
      "name": "python3",
      "display_name": "Python 3"
    },
    "language_info": {
      "name": "python"
    }
  },
  "cells": [
    {
      "cell_type": "markdown",
      "metadata": {
        "id": "view-in-github",
        "colab_type": "text"
      },
      "source": [
        "<a href=\"https://colab.research.google.com/github/cncs-fit/.github/blob/master/6_2.ipynb\" target=\"_parent\"><img src=\"https://colab.research.google.com/assets/colab-badge.svg\" alt=\"Open In Colab\"/></a>"
      ]
    },
    {
      "cell_type": "code",
      "execution_count": 3,
      "metadata": {
        "colab": {
          "base_uri": "https://localhost:8080/"
        },
        "id": "chdPRCKips0A",
        "outputId": "6d7f6e90-831b-48f9-db9f-0415e45f9a6a"
      },
      "outputs": [
        {
          "output_type": "stream",
          "name": "stdout",
          "text": [
            "-8\n",
            "[0, 1, 3, -5, 7, -8]\n",
            "[7, 3, 1, 0, -5, -8]\n"
          ]
        }
      ],
      "source": [
        "ls = [3,-8,1,0,7,-5]\n",
        "print(max(ls, key=abs))\n",
        "print(sorted(ls, key=abs))\n",
        "print(sorted(ls, reverse=True))"
      ]
    },
    {
      "cell_type": "code",
      "source": [
        "print(sorted(ls, key=lambda x: -x))"
      ],
      "metadata": {
        "colab": {
          "base_uri": "https://localhost:8080/"
        },
        "id": "RNpkupUIrW8A",
        "outputId": "e1a9a7b3-d302-45d6-8870-55484819e02c"
      },
      "execution_count": 4,
      "outputs": [
        {
          "output_type": "execute_result",
          "data": {
            "text/plain": [
              "[7, 3, 1, 0, -5, -8]"
            ]
          },
          "metadata": {},
          "execution_count": 4
        }
      ]
    },
    {
      "cell_type": "code",
      "source": [
        "#練習\n",
        "def max_value_key(d):\n",
        "  return max(d, key = lambda k : d[k])"
      ],
      "metadata": {
        "id": "pumDYihhr-87"
      },
      "execution_count": 37,
      "outputs": []
    },
    {
      "cell_type": "code",
      "source": [
        "print(max_value_key({3:10, 5:2, 9:1}) == 3)"
      ],
      "metadata": {
        "colab": {
          "base_uri": "https://localhost:8080/"
        },
        "id": "99gBDLfXsDnu",
        "outputId": "7a3bf256-f46e-4b1d-feff-6981e00cc967"
      },
      "execution_count": 38,
      "outputs": [
        {
          "output_type": "stream",
          "name": "stdout",
          "text": [
            "True\n"
          ]
        }
      ]
    },
    {
      "cell_type": "code",
      "source": [
        "for x in map(abs, [3,-8,1,0,7,-5]):\n",
        "    print(x)"
      ],
      "metadata": {
        "colab": {
          "base_uri": "https://localhost:8080/"
        },
        "id": "sG5MYPuntvI0",
        "outputId": "25a01b3a-0dc4-417a-ffeb-0ba2d3017591"
      },
      "execution_count": 7,
      "outputs": [
        {
          "output_type": "stream",
          "name": "stdout",
          "text": [
            "3\n",
            "8\n",
            "1\n",
            "0\n",
            "7\n",
            "5\n"
          ]
        }
      ]
    },
    {
      "cell_type": "code",
      "source": [
        "list(map(lambda x: x+1, map(abs, [3,-8,1,0,7,-5])))"
      ],
      "metadata": {
        "colab": {
          "base_uri": "https://localhost:8080/"
        },
        "id": "lKku6FYBtz0Q",
        "outputId": "a49f47e9-a0b7-4d1d-cd3d-8214250c4907"
      },
      "execution_count": 8,
      "outputs": [
        {
          "output_type": "execute_result",
          "data": {
            "text/plain": [
              "[4, 9, 2, 1, 8, 6]"
            ]
          },
          "metadata": {},
          "execution_count": 8
        }
      ]
    },
    {
      "cell_type": "code",
      "source": [
        "#練習\n",
        "def max_abs(ln):\n",
        "  return max(map(abs, ln))"
      ],
      "metadata": {
        "id": "Wroj_mO7uYSh"
      },
      "execution_count": 39,
      "outputs": []
    },
    {
      "cell_type": "code",
      "source": [
        "print(max_abs([3,-8,1,0,7,-5]) == 8)"
      ],
      "metadata": {
        "colab": {
          "base_uri": "https://localhost:8080/"
        },
        "id": "Mc_m9McMuYgl",
        "outputId": "374af840-4244-492b-dc63-3a57c742e9e1"
      },
      "execution_count": 40,
      "outputs": [
        {
          "output_type": "stream",
          "name": "stdout",
          "text": [
            "True\n"
          ]
        }
      ]
    },
    {
      "cell_type": "code",
      "source": [
        "def pos(x):\n",
        "    if x>0:\n",
        "        return True\n",
        "    else:\n",
        "        return False"
      ],
      "metadata": {
        "id": "gohrP0rivF6z"
      },
      "execution_count": 12,
      "outputs": []
    },
    {
      "cell_type": "code",
      "source": [
        "print(list(filter(pos, [3,-8,1,0,7,-5])))\n",
        "print([x for x in [3,-8,1,0,7,-5] if pos(x)])"
      ],
      "metadata": {
        "colab": {
          "base_uri": "https://localhost:8080/"
        },
        "id": "PGZklJj-vGD9",
        "outputId": "07219e1b-92f0-4332-c2b3-2819a480debb"
      },
      "execution_count": 13,
      "outputs": [
        {
          "output_type": "stream",
          "name": "stdout",
          "text": [
            "[3, 1, 7]\n",
            "[3, 1, 7]\n"
          ]
        }
      ]
    },
    {
      "cell_type": "code",
      "source": [
        "#練習\n",
        "def number_of_big_numbers(ln, n):\n",
        "  def a(x):\n",
        "    if x>n:\n",
        "      return True\n",
        "    else:\n",
        "      return False\n",
        "  l = list(filter(a,ln))\n",
        "  return len(l)"
      ],
      "metadata": {
        "id": "81auPQGqvfpE"
      },
      "execution_count": 41,
      "outputs": []
    },
    {
      "cell_type": "code",
      "source": [
        "print(number_of_big_numbers([10, 0, 7, 1, 5, 2, 9], 5) == 3)"
      ],
      "metadata": {
        "colab": {
          "base_uri": "https://localhost:8080/"
        },
        "id": "KdB0qlGAvi3o",
        "outputId": "51061ad7-7643-45ed-d5c2-4755d7445d43"
      },
      "execution_count": 42,
      "outputs": [
        {
          "output_type": "stream",
          "name": "stdout",
          "text": [
            "True\n"
          ]
        }
      ]
    },
    {
      "cell_type": "code",
      "source": [
        "with open('jugemu.txt', 'r', encoding='utf-8') as f:\n",
        "    print(max(f, key=len))"
      ],
      "metadata": {
        "colab": {
          "base_uri": "https://localhost:8080/"
        },
        "id": "PzvxAynSzrTC",
        "outputId": "4986b0bd-6171-4c9b-b4f2-54bcd9dd1c85"
      },
      "execution_count": 19,
      "outputs": [
        {
          "output_type": "stream",
          "name": "stdout",
          "text": [
            "グーリンダイのポンポコピーのポンポコナの、\n",
            "\n"
          ]
        }
      ]
    },
    {
      "cell_type": "code",
      "source": [
        "with open('jugemu.txt', 'r', encoding='utf-8') as f:\n",
        "    for x in f:\n",
        "      print(x)"
      ],
      "metadata": {
        "colab": {
          "base_uri": "https://localhost:8080/"
        },
        "id": "IlcTNmlD0WAB",
        "outputId": "5462b389-8bd2-4778-c199-05959b9f6906"
      },
      "execution_count": 43,
      "outputs": [
        {
          "output_type": "stream",
          "name": "stdout",
          "text": [
            "寿限無、寿限無、\n",
            "\n",
            "五劫の擦り切れ、\n",
            "\n",
            "解砂利水魚の、\n",
            "\n",
            "水行末・雲来松・風来松、\n",
            "\n",
            "食う寝るとこらに住むところ、\n",
            "\n",
            "やぶからこうじのぶらこうじ、\n",
            "\n",
            "パイポ・パイポ・パイポのシューリンガん、\n",
            "\n",
            "シューリンガンのグーリンダイ、\n",
            "\n",
            "グーリンダイのポンポコピーのポンポコナの、\n",
            "\n",
            "長久命の長助\n"
          ]
        }
      ]
    },
    {
      "cell_type": "code",
      "source": [
        "#練習\n",
        "def number_of_long_lines(file, n):\n",
        "  c = 0\n",
        "  with open(file, 'r', encoding='utf-8') as f:\n",
        "    for x in f:\n",
        "      if len(x)>n:\n",
        "        c += 1\n",
        "      else:\n",
        "        pass\n",
        "    return c"
      ],
      "metadata": {
        "id": "QWpdyUjhwVg9"
      },
      "execution_count": 44,
      "outputs": []
    },
    {
      "cell_type": "code",
      "source": [
        "print(number_of_long_lines('jugemu.txt', 10) == 6)"
      ],
      "metadata": {
        "colab": {
          "base_uri": "https://localhost:8080/"
        },
        "id": "cbr8I_r1wV5t",
        "outputId": "e481b620-900b-4b52-a04a-931e0e186708"
      },
      "execution_count": 45,
      "outputs": [
        {
          "output_type": "stream",
          "name": "stdout",
          "text": [
            "True\n"
          ]
        }
      ]
    }
  ]
}