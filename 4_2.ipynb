{
  "nbformat": 4,
  "nbformat_minor": 0,
  "metadata": {
    "colab": {
      "provenance": [],
      "authorship_tag": "ABX9TyOUH5LY0Iu8Gh9mid5NUAoK",
      "include_colab_link": true
    },
    "kernelspec": {
      "name": "python3",
      "display_name": "Python 3"
    },
    "language_info": {
      "name": "python"
    }
  },
  "cells": [
    {
      "cell_type": "markdown",
      "metadata": {
        "id": "view-in-github",
        "colab_type": "text"
      },
      "source": [
        "<a href=\"https://colab.research.google.com/github/cncs-fit/.github/blob/master/4_2.ipynb\" target=\"_parent\"><img src=\"https://colab.research.google.com/assets/colab-badge.svg\" alt=\"Open In Colab\"/></a>"
      ]
    },
    {
      "cell_type": "code",
      "source": [
        "from google.colab import drive\n",
        "drive.mount('/content/drive')"
      ],
      "metadata": {
        "id": "r0NPkwRSY0a4",
        "colab": {
          "base_uri": "https://localhost:8080/"
        },
        "outputId": "33f06b45-acaa-4012-f2df-f0ace5f0c116"
      },
      "execution_count": 4,
      "outputs": [
        {
          "output_type": "stream",
          "name": "stdout",
          "text": [
            "Mounted at /content/drive\n"
          ]
        }
      ]
    },
    {
      "cell_type": "code",
      "source": [
        "lines = []\n",
        "with open('/content/drive/MyDrive/sample.txt', 'r') as f:\n",
        "    for line in f:\n",
        "        lines.append(line)\n",
        "lines"
      ],
      "metadata": {
        "id": "sV7wKngebLbz",
        "colab": {
          "base_uri": "https://localhost:8080/"
        },
        "outputId": "df82ff8f-08d3-4c8b-a699-7a0ed9bfbe78"
      },
      "execution_count": 5,
      "outputs": [
        {
          "output_type": "execute_result",
          "data": {
            "text/plain": [
              "['Lorem ipsum dolor sit amet, consectetur adipiscing elit, sed do eiusmod tempor incididunt ut labore et dolore magna aliqua. Ut enim ad minim veniam, quis nostrud exercitation ullamco laboris nisi ut aliquip ex ea commodo consequat.\\n',\n",
              " 'Duis aute irure dolor in reprehenderit in voluptate velit esse cillum dolore eu fugiat nulla pariatur.\\n',\n",
              " 'Excepteur sint occaecat cupidatat non proident, sunt in culpa qui officia deserunt mollit anim id est laborum.\\n']"
            ]
          },
          "metadata": {},
          "execution_count": 5
        }
      ]
    },
    {
      "cell_type": "code",
      "source": [
        "with open('/content/drive/MyDrive/sample.txt', 'r') as f:\n",
        "    print('---- 最初 ----')\n",
        "    for line in f:\n",
        "        print(line)\n",
        "    print('---- もう一度 ----')\n",
        "    for line in f:\n",
        "        print(line)"
      ],
      "metadata": {
        "id": "R09EP8_Za9ij",
        "colab": {
          "base_uri": "https://localhost:8080/"
        },
        "outputId": "b66b2ec5-b9f6-4607-ceea-f8c791171b9a"
      },
      "execution_count": 6,
      "outputs": [
        {
          "output_type": "stream",
          "name": "stdout",
          "text": [
            "---- 最初 ----\n",
            "Lorem ipsum dolor sit amet, consectetur adipiscing elit, sed do eiusmod tempor incididunt ut labore et dolore magna aliqua. Ut enim ad minim veniam, quis nostrud exercitation ullamco laboris nisi ut aliquip ex ea commodo consequat.\n",
            "\n",
            "Duis aute irure dolor in reprehenderit in voluptate velit esse cillum dolore eu fugiat nulla pariatur.\n",
            "\n",
            "Excepteur sint occaecat cupidatat non proident, sunt in culpa qui officia deserunt mollit anim id est laborum.\n",
            "\n",
            "---- もう一度 ----\n"
          ]
        }
      ]
    },
    {
      "cell_type": "code",
      "source": [
        "#練習\n",
        "def last_line(name):\n",
        "  l = []\n",
        "  with open(name, 'r') as f:\n",
        "    for line in f:\n",
        "      l.append(line)\n",
        "  return l[len(l)-1]"
      ],
      "metadata": {
        "id": "Jc9LyU39Y1qe"
      },
      "execution_count": 7,
      "outputs": []
    },
    {
      "cell_type": "code",
      "execution_count": 8,
      "metadata": {
        "id": "VX5Mezb8Q5yc"
      },
      "outputs": [],
      "source": [
        "assert last_line('/content/drive/MyDrive/sample.txt') == 'Excepteur sint occaecat cupidatat non proident, sunt in culpa qui officia deserunt mollit anim id est laborum.\\n'\n"
      ]
    },
    {
      "cell_type": "code",
      "source": [
        "it = iter([0,1,2])\n",
        "print(next(it))\n",
        "print(next(it))\n",
        "print(next(it))"
      ],
      "metadata": {
        "colab": {
          "base_uri": "https://localhost:8080/"
        },
        "id": "0Sh4v4TBqhsG",
        "outputId": "011ccc5b-8a2c-40db-bfcb-e7c22af6e5f0"
      },
      "execution_count": 9,
      "outputs": [
        {
          "output_type": "stream",
          "name": "stdout",
          "text": [
            "0\n",
            "1\n",
            "2\n"
          ]
        }
      ]
    },
    {
      "cell_type": "code",
      "source": [
        "#練習\n",
        "def but_first(ls):\n",
        "  c = 0\n",
        "  l = []\n",
        "  for x in ls:\n",
        "    if c == 0:\n",
        "      pass\n",
        "    else:\n",
        "      l.append(x)\n",
        "    c += 1\n",
        "  return iter(l)"
      ],
      "metadata": {
        "id": "6GWwkI3Ms9c5"
      },
      "execution_count": 10,
      "outputs": []
    },
    {
      "cell_type": "code",
      "source": [
        "it = but_first([0,2,4,6,8])\n",
        "assert type(it) == type(iter([])) # type(it) では it は消費されない\n",
        "assert list(it) == [2,4,6,8]"
      ],
      "metadata": {
        "id": "uVvasqaFs-xp"
      },
      "execution_count": 11,
      "outputs": []
    }
  ]
}