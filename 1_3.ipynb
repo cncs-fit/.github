{
  "nbformat": 4,
  "nbformat_minor": 0,
  "metadata": {
    "colab": {
      "provenance": [],
      "authorship_tag": "ABX9TyOiLx7FefJ/pAN/PZi6SmPr",
      "include_colab_link": true
    },
    "kernelspec": {
      "name": "python3",
      "display_name": "Python 3"
    },
    "language_info": {
      "name": "python"
    }
  },
  "cells": [
    {
      "cell_type": "markdown",
      "metadata": {
        "id": "view-in-github",
        "colab_type": "text"
      },
      "source": [
        "<a href=\"https://colab.research.google.com/github/cncs-fit/.github/blob/master/1_3.ipynb\" target=\"_parent\"><img src=\"https://colab.research.google.com/assets/colab-badge.svg\" alt=\"Open In Colab\"/></a>"
      ]
    },
    {
      "cell_type": "code",
      "execution_count": 1,
      "metadata": {
        "id": "Y__efWQQXLwD"
      },
      "outputs": [],
      "source": [
        "#練習\n",
        "def absolute(x):\n",
        "  if x<0:\n",
        "    x = -x\n",
        "  return x"
      ]
    },
    {
      "cell_type": "code",
      "source": [
        "assert absolute(5) == 5\n",
        "assert absolute(-5) == 5\n",
        "assert absolute(0) == 0"
      ],
      "metadata": {
        "id": "ZaY06p9kYHKd"
      },
      "execution_count": 2,
      "outputs": []
    },
    {
      "cell_type": "code",
      "source": [
        "#練習\n",
        "def sign(x):\n",
        "  if x == 0:\n",
        "    return 0\n",
        "  elif x>0:\n",
        "    return 1\n",
        "  elif x<0:\n",
        "    return -1"
      ],
      "metadata": {
        "id": "0AlrEIzlYRek"
      },
      "execution_count": 3,
      "outputs": []
    },
    {
      "cell_type": "code",
      "source": [
        "assert sign(5) == 1\n",
        "assert sign(-5) == -1\n",
        "assert sign(0) == 0"
      ],
      "metadata": {
        "id": "9SZLzc0HY7i5"
      },
      "execution_count": 4,
      "outputs": []
    },
    {
      "cell_type": "code",
      "source": [
        "if None:\n",
        "    print('OK')\n",
        "else:\n",
        "    print('NG')"
      ],
      "metadata": {
        "colab": {
          "base_uri": "https://localhost:8080/"
        },
        "id": "6z_uLJYOZApb",
        "outputId": "a2b4bcd8-52e1-4605-a9ca-71c5495afb72"
      },
      "execution_count": null,
      "outputs": [
        {
          "output_type": "stream",
          "name": "stdout",
          "text": [
            "NG\n"
          ]
        }
      ]
    }
  ]
}