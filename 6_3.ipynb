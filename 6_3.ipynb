{
  "nbformat": 4,
  "nbformat_minor": 0,
  "metadata": {
    "colab": {
      "provenance": [],
      "authorship_tag": "ABX9TyNW3CJAaWmoV4vaqfovoYWB",
      "include_colab_link": true
    },
    "kernelspec": {
      "name": "python3",
      "display_name": "Python 3"
    },
    "language_info": {
      "name": "python"
    }
  },
  "cells": [
    {
      "cell_type": "markdown",
      "metadata": {
        "id": "view-in-github",
        "colab_type": "text"
      },
      "source": [
        "<a href=\"https://colab.research.google.com/github/cncs-fit/.github/blob/master/6_3.ipynb\" target=\"_parent\"><img src=\"https://colab.research.google.com/assets/colab-badge.svg\" alt=\"Open In Colab\"/></a>"
      ]
    },
    {
      "cell_type": "code",
      "execution_count": 1,
      "metadata": {
        "id": "5sIbH3DV4qH8"
      },
      "outputs": [],
      "source": [
        "class HelloForEver:\n",
        "    def readline(self):\n",
        "        return 'Hello.\\n'"
      ]
    },
    {
      "cell_type": "code",
      "source": [
        "f = HelloForEver()\n",
        "type(f)"
      ],
      "metadata": {
        "colab": {
          "base_uri": "https://localhost:8080/"
        },
        "id": "-UjMeqVM6g8L",
        "outputId": "9abebfc1-a8fb-485a-a9ca-ec7c614d7dcf"
      },
      "execution_count": 2,
      "outputs": [
        {
          "output_type": "execute_result",
          "data": {
            "text/plain": [
              "__main__.HelloForEver"
            ]
          },
          "metadata": {},
          "execution_count": 2
        }
      ]
    },
    {
      "cell_type": "code",
      "source": [
        "f.readline()"
      ],
      "metadata": {
        "colab": {
          "base_uri": "https://localhost:8080/",
          "height": 35
        },
        "id": "W5vPUM936rON",
        "outputId": "56f64570-5ee6-4123-d334-795a54d2bf6a"
      },
      "execution_count": 3,
      "outputs": [
        {
          "output_type": "execute_result",
          "data": {
            "text/plain": [
              "'Hello.\\n'"
            ],
            "application/vnd.google.colaboratory.intrinsic+json": {
              "type": "string"
            }
          },
          "metadata": {},
          "execution_count": 3
        }
      ]
    },
    {
      "cell_type": "code",
      "source": [
        "class HelloFile:\n",
        "    def __init__(self, n):\n",
        "        self.n = n\n",
        "    def readline(self):\n",
        "        if self.n == 0:\n",
        "            return ''\n",
        "        self.n = self.n - 1\n",
        "        return 'Hello.\\n'"
      ],
      "metadata": {
        "id": "bKxEZ67377zo"
      },
      "execution_count": 4,
      "outputs": []
    },
    {
      "cell_type": "code",
      "source": [
        "f = HelloFile(3)"
      ],
      "metadata": {
        "id": "c9a_s8uq7--T"
      },
      "execution_count": 8,
      "outputs": []
    },
    {
      "cell_type": "code",
      "source": [
        "print(f.readline())\n",
        "print(f.readline())\n",
        "print(f.readline())\n",
        "f.readline()"
      ],
      "metadata": {
        "colab": {
          "base_uri": "https://localhost:8080/",
          "height": 144
        },
        "id": "cYOw1zQR8HvS",
        "outputId": "42b7504d-7427-48c7-9a6c-f434ee38d0bc"
      },
      "execution_count": 9,
      "outputs": [
        {
          "output_type": "stream",
          "name": "stdout",
          "text": [
            "Hello.\n",
            "\n",
            "Hello.\n",
            "\n",
            "Hello.\n",
            "\n"
          ]
        },
        {
          "output_type": "execute_result",
          "data": {
            "text/plain": [
              "''"
            ],
            "application/vnd.google.colaboratory.intrinsic+json": {
              "type": "string"
            }
          },
          "metadata": {},
          "execution_count": 9
        }
      ]
    },
    {
      "cell_type": "code",
      "source": [
        "f.n"
      ],
      "metadata": {
        "colab": {
          "base_uri": "https://localhost:8080/"
        },
        "id": "8fEsrdkE8Wir",
        "outputId": "997ff031-53ed-4eb6-b42a-f39e44d7f88d"
      },
      "execution_count": 10,
      "outputs": [
        {
          "output_type": "execute_result",
          "data": {
            "text/plain": [
              "0"
            ]
          },
          "metadata": {},
          "execution_count": 10
        }
      ]
    },
    {
      "cell_type": "code",
      "source": [
        "class HelloFileIterator(HelloFile):\n",
        "    def __iter__(self):\n",
        "        return self\n",
        "    def __next__(self):\n",
        "        line = self.readline()\n",
        "        if line == '':\n",
        "            raise StopIteration\n",
        "        return line"
      ],
      "metadata": {
        "id": "04qUlGtr-Agn"
      },
      "execution_count": 49,
      "outputs": []
    },
    {
      "cell_type": "code",
      "source": [
        "f = HelloFileIterator(3)\n",
        "for line in f:\n",
        "    print(line)"
      ],
      "metadata": {
        "colab": {
          "base_uri": "https://localhost:8080/"
        },
        "id": "bkahM4_D-FXR",
        "outputId": "376268c3-4848-4c76-e65f-807420949f2a"
      },
      "execution_count": 13,
      "outputs": [
        {
          "output_type": "stream",
          "name": "stdout",
          "text": [
            "Hello.\n",
            "\n",
            "Hello.\n",
            "\n",
            "Hello.\n",
            "\n"
          ]
        }
      ]
    },
    {
      "cell_type": "code",
      "source": [
        "class EmptyFile(HelloFileIterator):\n",
        "    def readline(self):\n",
        "        return ''"
      ],
      "metadata": {
        "id": "GKhqt_Bk-R3q"
      },
      "execution_count": 14,
      "outputs": []
    },
    {
      "cell_type": "code",
      "source": [
        "#練習\n",
        "class StringFileIterator(HelloFileIterator):\n",
        "  def __init__(self, s, n):\n",
        "    self.n = n\n",
        "    self.s = s\n",
        "  def readline(self):    #練習では親の_next_(self)中のself.readline()にreturnをかえす？\n",
        "        if self.n == 0:\n",
        "            return ''\n",
        "        self.n = self.n - 1\n",
        "        return self.s"
      ],
      "metadata": {
        "id": "lGclaUpb-dC7"
      },
      "execution_count": 50,
      "outputs": []
    },
    {
      "cell_type": "code",
      "source": [
        "f = StringFileIterator('abc', 3)\n",
        "print(list(f) == ['abc','abc','abc']) #list(f)では_next_()を使う？"
      ],
      "metadata": {
        "colab": {
          "base_uri": "https://localhost:8080/"
        },
        "id": "i2-D-6cLAaCs",
        "outputId": "28017ba9-791f-41c2-c8f9-dca48118eecd"
      },
      "execution_count": 51,
      "outputs": [
        {
          "output_type": "stream",
          "name": "stdout",
          "text": [
            "True\n"
          ]
        }
      ]
    }
  ]
}