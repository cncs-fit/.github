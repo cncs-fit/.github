{
  "nbformat": 4,
  "nbformat_minor": 0,
  "metadata": {
    "colab": {
      "provenance": [],
      "authorship_tag": "ABX9TyMbwBqikIwyCv9Wra10KF/D",
      "include_colab_link": true
    },
    "kernelspec": {
      "name": "python3",
      "display_name": "Python 3"
    },
    "language_info": {
      "name": "python"
    }
  },
  "cells": [
    {
      "cell_type": "markdown",
      "metadata": {
        "id": "view-in-github",
        "colab_type": "text"
      },
      "source": [
        "<a href=\"https://colab.research.google.com/github/cncs-fit/.github/blob/master/3_2.ipynb\" target=\"_parent\"><img src=\"https://colab.research.google.com/assets/colab-badge.svg\" alt=\"Open In Colab\"/></a>"
      ]
    },
    {
      "cell_type": "code",
      "execution_count": null,
      "metadata": {
        "colab": {
          "base_uri": "https://localhost:8080/"
        },
        "id": "wiGz7BqtTFCw",
        "outputId": "5f27fedb-cf56-4486-abcc-9631abd9527b"
      },
      "outputs": [
        {
          "output_type": "stream",
          "name": "stdout",
          "text": [
            "97\n",
            "98\n",
            "122\n",
            "a\n"
          ]
        }
      ],
      "source": [
        "print(ord('a'))\n",
        "print(ord('b'))\n",
        "print(ord('z'))\n",
        "\n",
        "print(chr(97))"
      ]
    },
    {
      "cell_type": "code",
      "source": [
        "dic1 = {'cat': 3, 'dog': 3, 'elephant': 8}\n",
        "for key, value in dic1.items():\n",
        "    print('key:', key, 'value:', value)"
      ],
      "metadata": {
        "colab": {
          "base_uri": "https://localhost:8080/"
        },
        "id": "rUgeWodNTmGu",
        "outputId": "93fa6ec1-92b2-43bc-cdaa-28798f7906b1"
      },
      "execution_count": null,
      "outputs": [
        {
          "output_type": "stream",
          "name": "stdout",
          "text": [
            "key: cat value: 3\n",
            "key: dog value: 3\n",
            "key: elephant value: 8\n"
          ]
        }
      ]
    },
    {
      "cell_type": "code",
      "source": [
        "list1 = [[0, 10], [1, 20], [2, 30]]\n",
        "for i, j in list1:\n",
        "    print(i, j)"
      ],
      "metadata": {
        "colab": {
          "base_uri": "https://localhost:8080/"
        },
        "id": "TxlA7DAmUzY1",
        "outputId": "c810731d-0a4c-49ab-abad-a6d5a5cf089e"
      },
      "execution_count": null,
      "outputs": [
        {
          "output_type": "stream",
          "name": "stdout",
          "text": [
            "0 10\n",
            "1 20\n",
            "2 30\n"
          ]
        }
      ]
    },
    {
      "cell_type": "code",
      "source": [
        "#練習\n",
        "def reverse_lookup2(dic1):\n",
        "  dic2 = {}\n",
        "  for k, v in dic1.items():\n",
        "    dic2[v] = k\n",
        "  return dic2"
      ],
      "metadata": {
        "id": "t8F5qpn4U8sl"
      },
      "execution_count": 1,
      "outputs": []
    },
    {
      "cell_type": "code",
      "source": [
        "print(reverse_lookup2({'apple': 3, 'pen': 5, 'orange': 7}) == {3: 'apple', 5: 'pen', 7: 'orange'})\n"
      ],
      "metadata": {
        "colab": {
          "base_uri": "https://localhost:8080/"
        },
        "id": "-yyNQDSzWz-k",
        "outputId": "44421b15-8fb1-4ab6-cc1a-1b774a8b6fd2"
      },
      "execution_count": 2,
      "outputs": [
        {
          "output_type": "stream",
          "name": "stdout",
          "text": [
            "True\n"
          ]
        }
      ]
    },
    {
      "cell_type": "code",
      "source": [
        "ln = ['e', 'd', 'a', 'c', 'f', 'b']\n",
        "for value in range(len(ln)):\n",
        "    print(ln[value])"
      ],
      "metadata": {
        "colab": {
          "base_uri": "https://localhost:8080/"
        },
        "id": "YDjbHRIpXLP3",
        "outputId": "270f479d-6ec2-43bf-b883-feeb8dba644c"
      },
      "execution_count": null,
      "outputs": [
        {
          "output_type": "stream",
          "name": "stdout",
          "text": [
            "e\n",
            "d\n",
            "a\n",
            "c\n",
            "f\n",
            "b\n"
          ]
        }
      ]
    },
    {
      "cell_type": "code",
      "source": [
        "#練習\n",
        "def sum_n(x, y):\n",
        "  sum = 0\n",
        "  for i in range(y-x+1):\n",
        "    sum += i+x\n",
        "  return sum"
      ],
      "metadata": {
        "id": "pkElJzc8XcOM"
      },
      "execution_count": 3,
      "outputs": []
    },
    {
      "cell_type": "code",
      "source": [
        "print(sum_n(1, 3) == 6)"
      ],
      "metadata": {
        "colab": {
          "base_uri": "https://localhost:8080/"
        },
        "id": "g17bmD-_Xdfp",
        "outputId": "bb56bed8-7114-476e-a871-29f178f130fb"
      },
      "execution_count": 4,
      "outputs": [
        {
          "output_type": "stream",
          "name": "stdout",
          "text": [
            "True\n"
          ]
        }
      ]
    },
    {
      "cell_type": "code",
      "source": [
        "#練習\n",
        "def sum_lists(list1):\n",
        "  sum = 0\n",
        "  for i in range(len(list1)):\n",
        "    for j in list1[i]:\n",
        "      sum += j\n",
        "  return sum"
      ],
      "metadata": {
        "id": "fX7lt-taY8wG"
      },
      "execution_count": 5,
      "outputs": []
    },
    {
      "cell_type": "code",
      "source": [
        "print(sum_lists([[20, 5], [6, 16, 14, 5], [16, 8, 16, 17, 14], [1], [5, 3, 5, 7]]) == 158)\n"
      ],
      "metadata": {
        "colab": {
          "base_uri": "https://localhost:8080/"
        },
        "id": "0OB2YkqfZaMK",
        "outputId": "5f6a0866-be29-4b40-b252-07642ce23584"
      },
      "execution_count": 6,
      "outputs": [
        {
          "output_type": "stream",
          "name": "stdout",
          "text": [
            "True\n"
          ]
        }
      ]
    },
    {
      "cell_type": "code",
      "source": [
        "#練習\n",
        "def construct_list(int_size):\n",
        "  l = []\n",
        "  for x in range(int_size):\n",
        "    l.append(x)\n",
        "  return l"
      ],
      "metadata": {
        "id": "jbfWkEnAbGHl"
      },
      "execution_count": 7,
      "outputs": []
    },
    {
      "cell_type": "code",
      "source": [
        "print(construct_list(10) == [0, 1, 2, 3, 4, 5, 6, 7, 8, 9])"
      ],
      "metadata": {
        "colab": {
          "base_uri": "https://localhost:8080/"
        },
        "id": "_j7b2T4RbcUq",
        "outputId": "1aa0a0fb-7331-4bcd-ea07-9a58441b3385"
      },
      "execution_count": 8,
      "outputs": [
        {
          "output_type": "stream",
          "name": "stdout",
          "text": [
            "True\n"
          ]
        }
      ]
    },
    {
      "cell_type": "code",
      "source": [
        "#練習\n",
        "def sum_matrix(list1, list2):\n",
        "  list3 = list1\n",
        "  for i in range(len(list1)):\n",
        "    for j in range(len(list1[i])):\n",
        "      tmp = list1[i][j] + list2[i][j]\n",
        "      list3[i][j] = tmp\n",
        "  return list3"
      ],
      "metadata": {
        "id": "by0Jh9okcJxm"
      },
      "execution_count": 9,
      "outputs": []
    },
    {
      "cell_type": "code",
      "source": [
        "print(sum_matrix([[1,2,3],[4,5,6],[7,8,9]], [[1,4,7],[2,5,8],[3,6,9]]) == [[2, 6, 10], [6, 10, 14], [10, 14, 18]])\n"
      ],
      "metadata": {
        "colab": {
          "base_uri": "https://localhost:8080/"
        },
        "id": "ciUKMTyRcPd6",
        "outputId": "8d6f4663-e3b3-4165-959c-b9a2490e7c92"
      },
      "execution_count": 10,
      "outputs": [
        {
          "output_type": "stream",
          "name": "stdout",
          "text": [
            "True\n"
          ]
        }
      ]
    },
    {
      "cell_type": "code",
      "source": [
        "#練習\n",
        "def simple_match(str1, str2):\n",
        "  i = 0\n",
        "  l1 =list(str1)\n",
        "  l = [0]*3\n",
        "  while i < len(str1)-2:\n",
        "    for x in range(3):\n",
        "      l[x] = l1[i+x]\n",
        "    if l ==list(str2):\n",
        "      return i\n",
        "    i += 1\n",
        "  return -1"
      ],
      "metadata": {
        "id": "oc7GmaqUeUkd"
      },
      "execution_count": 11,
      "outputs": []
    },
    {
      "cell_type": "code",
      "source": [
        "print(simple_match('location', 'cat') == 2)\n",
        "print(simple_match('soccer', 'cat') == -1)\n",
        "print(simple_match('category', 'cat') == 0)\n",
        "print(simple_match('carpet', 'cat') == -1)"
      ],
      "metadata": {
        "colab": {
          "base_uri": "https://localhost:8080/"
        },
        "id": "5nzDKmsOfaTZ",
        "outputId": "5f41f3db-7fdd-46b5-d176-23f51e6a8aa4"
      },
      "execution_count": 12,
      "outputs": [
        {
          "output_type": "stream",
          "name": "stdout",
          "text": [
            "True\n",
            "True\n",
            "True\n",
            "True\n"
          ]
        }
      ]
    },
    {
      "cell_type": "code",
      "source": [
        "#練習\n",
        "from time import sleep\n",
        "i=0\n",
        "while i <10:\n",
        "    print('Yeah!')\n",
        "    i += 1\n",
        "    sleep(1)"
      ],
      "metadata": {
        "colab": {
          "base_uri": "https://localhost:8080/"
        },
        "id": "VamEui2VgQVm",
        "outputId": "e9b794e2-1380-46b8-a08a-4ab4715cef9f"
      },
      "execution_count": 13,
      "outputs": [
        {
          "output_type": "stream",
          "name": "stdout",
          "text": [
            "Yeah!\n",
            "Yeah!\n",
            "Yeah!\n",
            "Yeah!\n",
            "Yeah!\n",
            "Yeah!\n",
            "Yeah!\n",
            "Yeah!\n",
            "Yeah!\n",
            "Yeah!\n"
          ]
        }
      ]
    },
    {
      "cell_type": "code",
      "source": [
        "#練習\n",
        "def collect_engwords(str_engsentence):\n",
        "  str_engsentence = str_engsentence.replace(',', '')\n",
        "  str_engsentence = str_engsentence.replace('.', '')\n",
        "  l = str_engsentence.split(' ')\n",
        "  tmp = []\n",
        "  for x in range(len(l)):\n",
        "    if len(l[x]) < 3:\n",
        "      tmp.append(x)\n",
        "  i = 0\n",
        "  for x in tmp:\n",
        "    del l[x-i]\n",
        "    i+=1\n",
        "  return l\n"
      ],
      "metadata": {
        "id": "JtAU57ZOkqkP"
      },
      "execution_count": 14,
      "outputs": []
    },
    {
      "cell_type": "code",
      "source": [
        "print(collect_engwords('Unfortunately no, it requires something with a little more kick, plutonium.') == ['Unfortunately', 'requires',\n",
        "'something', 'with', 'little', 'more', 'kick', 'plutonium'])"
      ],
      "metadata": {
        "colab": {
          "base_uri": "https://localhost:8080/"
        },
        "id": "Ne9_dyVbkyf-",
        "outputId": "d4b29a0a-124f-4125-ce3c-d8e84c04a8b6"
      },
      "execution_count": 15,
      "outputs": [
        {
          "output_type": "stream",
          "name": "stdout",
          "text": [
            "True\n"
          ]
        }
      ]
    },
    {
      "cell_type": "code",
      "source": [
        "#練習\n",
        "def swap_lists(ln1, ln2):\n",
        "  for x in range(len(ln1)):\n",
        "    if x%2 == 1:\n",
        "      ln1[x],ln2[x] = ln2[x],ln1[x]\n",
        "  return (ln1,ln2)"
      ],
      "metadata": {
        "id": "lxs6zNjVnVK2"
      },
      "execution_count": 16,
      "outputs": []
    },
    {
      "cell_type": "code",
      "source": [
        "print(swap_lists([1, 2, 3, 4, 5], ['a', 'b', 'c', 'd', 'e']) == ([1, 'b', 3, 'd', 5], ['a', 2, 'c', 4, 'e']))\n"
      ],
      "metadata": {
        "colab": {
          "base_uri": "https://localhost:8080/"
        },
        "id": "wBqZUKojqenC",
        "outputId": "bf28b66d-6dcc-4d30-92ed-f06b031dcaaa"
      },
      "execution_count": 17,
      "outputs": [
        {
          "output_type": "stream",
          "name": "stdout",
          "text": [
            "True\n"
          ]
        }
      ]
    },
    {
      "cell_type": "code",
      "source": [
        "#練習\n",
        "def count_capitalletters(str1):\n",
        "  str1 = str1.replace(' ', '')\n",
        "  str1 = str1.replace(',', '')\n",
        "  l = list(str1)\n",
        "  c = 0\n",
        "  for x in l:\n",
        "    if x == x.upper():\n",
        "      c +=1\n",
        "  return c\n"
      ],
      "metadata": {
        "id": "5kYruSwWqfV9"
      },
      "execution_count": 18,
      "outputs": []
    },
    {
      "cell_type": "code",
      "source": [
        "print(count_capitalletters('Que Será, Será') == 3)\n"
      ],
      "metadata": {
        "colab": {
          "base_uri": "https://localhost:8080/"
        },
        "id": "n_USEUU5rV8N",
        "outputId": "b997e009-cf78-40f8-ed35-2c0958da7f58"
      },
      "execution_count": 19,
      "outputs": [
        {
          "output_type": "stream",
          "name": "stdout",
          "text": [
            "True\n"
          ]
        }
      ]
    },
    {
      "cell_type": "code",
      "source": [
        "#練習\n",
        "def identify_codons(str_augc):\n",
        "  i = 0\n",
        "  l = []\n",
        "  for x in range(len(str_augc)//3):\n",
        "    l.append(str_augc[3*i:3*i+3])\n",
        "    i+=1\n",
        "  return l"
      ],
      "metadata": {
        "id": "ocNlu4A6tDxT"
      },
      "execution_count": 20,
      "outputs": []
    },
    {
      "cell_type": "code",
      "source": [
        "print(identify_codons('CCCCCGGCACCT') == ['CCC', 'CCG', 'GCA', 'CCT'])\n"
      ],
      "metadata": {
        "colab": {
          "base_uri": "https://localhost:8080/"
        },
        "id": "-ZbTM329vXFk",
        "outputId": "f1550f41-edb5-4367-a99b-bef39286f941"
      },
      "execution_count": 21,
      "outputs": [
        {
          "output_type": "stream",
          "name": "stdout",
          "text": [
            "True\n"
          ]
        }
      ]
    },
    {
      "cell_type": "code",
      "source": [
        "#練習\n",
        "def add_commas(int1):\n",
        "  l = list(str(int1))\n",
        "  ans = ''\n",
        "  i = 1\n",
        "  for x in range(len(l)):\n",
        "    ans += l.pop(-1)\n",
        "    if i%3 == 0 and l != []:\n",
        "      ans += ','\n",
        "    i += 1\n",
        "    al = list(ans)\n",
        "    al.reverse()\n",
        "  return ''.join(al)\n"
      ],
      "metadata": {
        "id": "bBwHGf8_xw1z"
      },
      "execution_count": 23,
      "outputs": []
    },
    {
      "cell_type": "code",
      "source": [
        "print(add_commas(14980) == '14,980')\n",
        "print(add_commas(3980) == '3,980')\n",
        "print(add_commas(298) == '298')\n",
        "print(add_commas(1000000) == '1,000,000')"
      ],
      "metadata": {
        "colab": {
          "base_uri": "https://localhost:8080/"
        },
        "id": "slAEgSJ_zB_-",
        "outputId": "5dd22fd1-5f92-4310-f25a-30888632ffdb"
      },
      "execution_count": 24,
      "outputs": [
        {
          "output_type": "stream",
          "name": "stdout",
          "text": [
            "True\n",
            "True\n",
            "True\n",
            "True\n"
          ]
        }
      ]
    },
    {
      "cell_type": "code",
      "source": [
        "#練習\n",
        "def sum_strings(list1):\n",
        "  for x in range(len(list1)):\n",
        "    list1[x] = str(list1[x])\n",
        "  ans = ''\n",
        "  for x in range(len(list1)):\n",
        "    if x < len(list1)-2:\n",
        "      ans += list1[x] + ', '\n",
        "    elif x < len(list1)-1:\n",
        "      ans += list1[x] + ' and '\n",
        "    else:\n",
        "      ans += list1[x]\n",
        "  return ans"
      ],
      "metadata": {
        "id": "sffZUj17yBU4"
      },
      "execution_count": 25,
      "outputs": []
    },
    {
      "cell_type": "code",
      "source": [
        "print(sum_strings(['a', 'b', 'c', 'd']) == 'a, b, c and d')\n",
        "print(sum_strings(['a']) == 'a')\n",
        "print(sum_strings([1, 2, 3]) == '1, 2 and 3')\n"
      ],
      "metadata": {
        "colab": {
          "base_uri": "https://localhost:8080/"
        },
        "id": "uOdQvWPx4FV8",
        "outputId": "ec352dd4-05ab-4fe7-afe1-4703b423ca0f"
      },
      "execution_count": 26,
      "outputs": [
        {
          "output_type": "stream",
          "name": "stdout",
          "text": [
            "True\n",
            "True\n",
            "True\n"
          ]
        }
      ]
    },
    {
      "cell_type": "code",
      "source": [
        "#練習\n",
        "def handle_collision2(dic1, str1):\n",
        "  i = len(str1)\n",
        "  if dic1.get(len(str1)) == None:\n",
        "    dic1[len(str1)] = str1\n",
        "  else:\n",
        "    for x in range(10):\n",
        "      i += 1\n",
        "      if dic1.get(i) == None:\n",
        "        dic1[i] = str1\n",
        "        break\n",
        "      else:\n",
        "        if i == 10:\n",
        "          i=0"
      ],
      "metadata": {
        "id": "NiJVMslE7Czn"
      },
      "execution_count": 27,
      "outputs": []
    },
    {
      "cell_type": "code",
      "source": [
        "dic1_orig = {6: 'Styles', 4: 'Link', 7: 'Ackroyd'}\n",
        "handle_collision2(dic1_orig, 'Big Four')\n",
        "print(dic1_orig == {6: 'Styles', 4: 'Link', 7: 'Ackroyd', 8: 'Big Four'})\n",
        "dic1_orig = {6: 'Styles', 4: 'Link', 7: 'Ackroyd', 8: 'Big Four', 10: 'Blue Train', 9: 'End House'}\n",
        "handle_collision2(dic1_orig, 'Edgware')\n",
        "print(dic1_orig == {6: 'Styles', 4: 'Link', 7: 'Ackroyd', 8: 'Big Four', 10: 'Blue Train', 9: 'End House', 1: 'Edgware'})\n",
        "dic1_orig = {6: 'Styles', 4: 'Link', 7: 'Ackroyd', 8: 'Big Four', 10: 'Blue Train', 9: 'End House', 1: 'Edgware', 2: 'Orient', 3: 'Three Act', 5: 'Clouds'}\n",
        "handle_collision2(dic1_orig, 'ABC')\n",
        "print(dic1_orig == {6: 'Styles', 4: 'Link', 7: 'Ackroyd', 8: 'Big Four', 10: 'Blue Train', 9: 'End House', 1: 'Edgware', 2: 'Orient', 3: 'Three Act', 5: 'Clouds'})"
      ],
      "metadata": {
        "colab": {
          "base_uri": "https://localhost:8080/"
        },
        "id": "uTE1a9Rs_yO3",
        "outputId": "6d723247-b3a5-4e7c-d7d4-7ca760b187cc"
      },
      "execution_count": 28,
      "outputs": [
        {
          "output_type": "stream",
          "name": "stdout",
          "text": [
            "True\n",
            "True\n",
            "True\n"
          ]
        }
      ]
    },
    {
      "cell_type": "code",
      "source": [
        "#練習\n",
        "def handle_collision3(list1):\n",
        "  dic = {}\n",
        "  for x in range(len(list1)):\n",
        "    if dic.get(list1[x][0]) == None:\n",
        "      dic[list1[x][0]] = list1[x][1]\n",
        "    else:\n",
        "      if dic[list1[x][0]] < list1[x][1]:\n",
        "        dic[list1[x][0]] = list1[x][1]\n",
        "\n",
        "  return dic\n"
      ],
      "metadata": {
        "id": "b5iNnUW2ESWU"
      },
      "execution_count": 29,
      "outputs": []
    },
    {
      "cell_type": "code",
      "source": [
        "print(handle_collision3([[3, 'Richard III'], [1, 'Othello'], [2, 'Tempest'], [3, 'King John'], [4, 'Midsummer'], [1, 'Lear']]) == {1: 'Othello', 2: 'Tempest', 3: 'Richard III', 4: 'Midsummer'})\n"
      ],
      "metadata": {
        "colab": {
          "base_uri": "https://localhost:8080/"
        },
        "id": "sqpktB79EkXt",
        "outputId": "62f0d73c-f3a5-4c5b-a383-913176449205"
      },
      "execution_count": 30,
      "outputs": [
        {
          "output_type": "stream",
          "name": "stdout",
          "text": [
            "True\n"
          ]
        }
      ]
    }
  ]
}