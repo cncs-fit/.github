{
  "nbformat": 4,
  "nbformat_minor": 0,
  "metadata": {
    "colab": {
      "provenance": [],
      "authorship_tag": "ABX9TyOzpcjzUWpCiF7lhpTXjimL",
      "include_colab_link": true
    },
    "kernelspec": {
      "name": "python3",
      "display_name": "Python 3"
    },
    "language_info": {
      "name": "python"
    }
  },
  "cells": [
    {
      "cell_type": "markdown",
      "metadata": {
        "id": "view-in-github",
        "colab_type": "text"
      },
      "source": [
        "<a href=\"https://colab.research.google.com/github/cncs-fit/.github/blob/master/5_1.ipynb\" target=\"_parent\"><img src=\"https://colab.research.google.com/assets/colab-badge.svg\" alt=\"Open In Colab\"/></a>"
      ]
    },
    {
      "cell_type": "code",
      "execution_count": 1,
      "metadata": {
        "colab": {
          "base_uri": "https://localhost:8080/"
        },
        "id": "ochAW9eZ0nzc",
        "outputId": "db28b458-ee07-411f-c511-297fe96440ce"
      },
      "outputs": [
        {
          "output_type": "stream",
          "name": "stdout",
          "text": [
            "1.4142135623730951\n",
            "3.141592653589793\n",
            "0.7071067811865475\n",
            "1.0\n",
            "5.0\n"
          ]
        }
      ],
      "source": [
        "from math import sqrt\n",
        "print(sqrt(2)) # sqrt は平方根を計算する関数\n",
        "from math import pi\n",
        "print(pi) # πの値\n",
        "from math import sin\n",
        "print(sin(pi/4)) # sin関数\n",
        "from math import cos\n",
        "print(cos(0)) # cos関数\n",
        "from math import log\n",
        "print(log(32,2)) # 2を底とする32の対数"
      ]
    },
    {
      "cell_type": "code",
      "source": [
        "from math import *"
      ],
      "metadata": {
        "id": "1WdirMZD09AU"
      },
      "execution_count": 2,
      "outputs": []
    },
    {
      "cell_type": "code",
      "source": [
        "pi = 'パイ' # piという変数に文字列「パイ」を代入する\n",
        "print(pi)\n",
        "from math import *\n",
        "print(pi) # mathモジュールのpiの値で上書きされる（衝突"
      ],
      "metadata": {
        "colab": {
          "base_uri": "https://localhost:8080/"
        },
        "id": "2oSKLkeK1I3R",
        "outputId": "22efdd1b-bfaf-42d1-deab-123b2c6924aa"
      },
      "execution_count": 3,
      "outputs": [
        {
          "output_type": "stream",
          "name": "stdout",
          "text": [
            "パイ\n",
            "3.141592653589793\n"
          ]
        }
      ]
    },
    {
      "cell_type": "code",
      "source": [
        "#練習\n",
        "from math import *\n",
        "print(sqrt(2))\n",
        "print(sin(pi))"
      ],
      "metadata": {
        "colab": {
          "base_uri": "https://localhost:8080/"
        },
        "id": "b7nvwvEx1d5U",
        "outputId": "e42e3763-b981-41c1-ce70-5cc2ee66cf3c"
      },
      "execution_count": 4,
      "outputs": [
        {
          "output_type": "stream",
          "name": "stdout",
          "text": [
            "1.4142135623730951\n",
            "1.2246467991473532e-16\n"
          ]
        }
      ]
    }
  ]
}