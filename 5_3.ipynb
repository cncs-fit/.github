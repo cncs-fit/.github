{
  "nbformat": 4,
  "nbformat_minor": 0,
  "metadata": {
    "colab": {
      "provenance": [],
      "authorship_tag": "ABX9TyMxHFxbt9/N7FerksuQRpAS",
      "include_colab_link": true
    },
    "kernelspec": {
      "name": "python3",
      "display_name": "Python 3"
    },
    "language_info": {
      "name": "python"
    }
  },
  "cells": [
    {
      "cell_type": "markdown",
      "metadata": {
        "id": "view-in-github",
        "colab_type": "text"
      },
      "source": [
        "<a href=\"https://colab.research.google.com/github/cncs-fit/.github/blob/master/5_3.ipynb\" target=\"_parent\"><img src=\"https://colab.research.google.com/assets/colab-badge.svg\" alt=\"Open In Colab\"/></a>"
      ]
    },
    {
      "cell_type": "code",
      "execution_count": 24,
      "metadata": {
        "id": "V1gQXHgr516n"
      },
      "outputs": [],
      "source": [
        "import numpy as np"
      ]
    },
    {
      "cell_type": "code",
      "source": [
        "#練習\n",
        "def arange_square_matrix(n):\n",
        "  l = np.zeros((n,n))\n",
        "  for i in range(n):\n",
        "    for j in range(n):\n",
        "      l[i][j] = i+j\n",
        "  return l"
      ],
      "metadata": {
        "id": "F281An8X_7zY"
      },
      "execution_count": 25,
      "outputs": []
    },
    {
      "cell_type": "code",
      "source": [
        "print(all(map(all,(arange_square_matrix(3) == np.array([[0,1,2],[1,2,3],[2,3,4]])))))\n"
      ],
      "metadata": {
        "colab": {
          "base_uri": "https://localhost:8080/"
        },
        "id": "0MGQvX4QcvtO",
        "outputId": "b5439914-c5f3-4437-ea00-00eeddc53861"
      },
      "execution_count": 26,
      "outputs": [
        {
          "output_type": "stream",
          "name": "stdout",
          "text": [
            "True\n"
          ]
        }
      ]
    },
    {
      "cell_type": "code",
      "source": [
        "a = np.arange(3)\n",
        "a[-1]"
      ],
      "metadata": {
        "colab": {
          "base_uri": "https://localhost:8080/"
        },
        "id": "CRvJLz8Ee5hV",
        "outputId": "aaa01f75-2a78-4eed-9c81-01ca8c12c8b9"
      },
      "execution_count": 27,
      "outputs": [
        {
          "output_type": "execute_result",
          "data": {
            "text/plain": [
              "2"
            ]
          },
          "metadata": {},
          "execution_count": 27
        }
      ]
    },
    {
      "cell_type": "code",
      "source": [
        "a = np.arange(5)\n",
        "print(a)\n",
        "print(a[1:4])\n",
        "print(a[1:])\n",
        "print(a[:-2])\n",
        "print(a[::2])\n",
        "print(a[::-1])\n",
        "a[1:4] = 6\n",
        "print(a)"
      ],
      "metadata": {
        "colab": {
          "base_uri": "https://localhost:8080/"
        },
        "id": "h3oneHzjfUj-",
        "outputId": "15baf571-f5f4-4820-f97f-c8e421ed120f"
      },
      "execution_count": null,
      "outputs": [
        {
          "output_type": "stream",
          "name": "stdout",
          "text": [
            "[0 1 2 3 4]\n",
            "[1 2 3]\n",
            "[1 2 3 4]\n",
            "[0 1 2]\n",
            "[0 2 4]\n",
            "[4 3 2 1 0]\n",
            "[0 6 6 6 4]\n"
          ]
        }
      ]
    },
    {
      "cell_type": "code",
      "source": [
        "a = np.arange(4)\n",
        "print(a)\n",
        "\n",
        "print(a + 1) # 各要素に1を加算\n",
        "print(a - 1) # 各要素に1を減算\n",
        "print(a * 2) # 各要素に2を乗算\n",
        "print(a / 2) # 各要素を2で除算\n",
        "print(a // 2) # 各要素を2で整数除算\n",
        "print(a % 2) # 各要素に2の剰余演算\n",
        "print(a ** 2) # 各要素を2乗\n",
        "\n",
        "print(1 + a) # 左側がスカラでもよい\n",
        "print(1 - a) # 左側がスカラでもよい\n",
        "print(2 * a) # 左側がスカラでもよい\n",
        "b = a + 1\n",
        "print(1 / b) # 左側がスカラでもよい\n",
        "print(9 // b) # 左側がスカラでもよい"
      ],
      "metadata": {
        "colab": {
          "base_uri": "https://localhost:8080/"
        },
        "id": "LiASp83kf61k",
        "outputId": "bf045393-ff32-4bff-ffd9-c0e771be08f0"
      },
      "execution_count": null,
      "outputs": [
        {
          "output_type": "stream",
          "name": "stdout",
          "text": [
            "[0 1 2 3]\n",
            "[1 2 3 4]\n",
            "[-1  0  1  2]\n",
            "[0 2 4 6]\n",
            "[0.  0.5 1.  1.5]\n",
            "[0 0 1 1]\n",
            "[0 1 0 1]\n",
            "[0 1 4 9]\n",
            "[1 2 3 4]\n",
            "[ 1  0 -1 -2]\n",
            "[0 2 4 6]\n",
            "[1.         0.5        0.33333333 0.25      ]\n",
            "[9 4 3 2]\n"
          ]
        }
      ]
    },
    {
      "cell_type": "code",
      "source": [
        "a = np.zeros(3) + 2\n",
        "print(a)\n",
        "print(np.sqrt(a)) # 各要素はsqrt(2)\n",
        "b = np.zeros((2,2)) + 2\n",
        "print(np.sqrt(b)) # 各要素はsqrt(2)\n",
        "print(np.sqrt(2)) # スカラ（0次元配列）も扱える"
      ],
      "metadata": {
        "colab": {
          "base_uri": "https://localhost:8080/"
        },
        "id": "Er5p_hMMgZal",
        "outputId": "92e4f116-388b-4ec2-91e7-2817f6f5d55d"
      },
      "execution_count": null,
      "outputs": [
        {
          "output_type": "stream",
          "name": "stdout",
          "text": [
            "[2. 2. 2.]\n",
            "[1.41421356 1.41421356 1.41421356]\n",
            "[[1.41421356 1.41421356]\n",
            " [1.41421356 1.41421356]]\n",
            "1.4142135623730951\n"
          ]
        }
      ]
    },
    {
      "cell_type": "code",
      "source": [
        "np.dot(np.arange(4), np.arange(1,5)) # 0*1 + 1*2 + 2*3 + 3*4\n"
      ],
      "metadata": {
        "colab": {
          "base_uri": "https://localhost:8080/"
        },
        "id": "ZykSNInogl1l",
        "outputId": "4edb08e7-b775-4b52-eaf4-a637ef20c52a"
      },
      "execution_count": null,
      "outputs": [
        {
          "output_type": "execute_result",
          "data": {
            "text/plain": [
              "20"
            ]
          },
          "metadata": {},
          "execution_count": 14
        }
      ]
    },
    {
      "cell_type": "code",
      "source": [
        "a = np.array([3, 4, -1, 0, 2])\n",
        "print(a)\n",
        "a.sort()\n",
        "print(a)"
      ],
      "metadata": {
        "colab": {
          "base_uri": "https://localhost:8080/"
        },
        "id": "Mir4ueIvgtkE",
        "outputId": "696a0599-8a15-49e6-9f84-2e9fa328d5b6"
      },
      "execution_count": null,
      "outputs": [
        {
          "output_type": "stream",
          "name": "stdout",
          "text": [
            "[ 3  4 -1  0  2]\n",
            "[-1  0  2  3  4]\n"
          ]
        }
      ]
    },
    {
      "cell_type": "code",
      "source": [
        "a = np.arange(6).reshape(2,3)\n",
        "print(a)\n",
        "print(a.sum())\n",
        "print(a.sum(0))#列の合計\n",
        "print(a.sum(1))#行の合計"
      ],
      "metadata": {
        "colab": {
          "base_uri": "https://localhost:8080/"
        },
        "id": "PTqqgm76g7hg",
        "outputId": "d8bab065-2625-47c1-a410-2b1b0c56eed6"
      },
      "execution_count": null,
      "outputs": [
        {
          "output_type": "stream",
          "name": "stdout",
          "text": [
            "[[0 1 2]\n",
            " [3 4 5]]\n",
            "15\n",
            "[3 5 7]\n",
            "[ 3 12]\n"
          ]
        }
      ]
    },
    {
      "cell_type": "code",
      "source": [
        "a = np.arange(6)\n",
        "print(a)\n",
        "print(a < 3)"
      ],
      "metadata": {
        "colab": {
          "base_uri": "https://localhost:8080/"
        },
        "id": "J7FIqPPOhuCE",
        "outputId": "5c1a89aa-30ea-4a7d-ff0c-ed3589256cd7"
      },
      "execution_count": null,
      "outputs": [
        {
          "output_type": "stream",
          "name": "stdout",
          "text": [
            "[0 1 2 3 4 5]\n",
            "[ True  True  True False False False]\n"
          ]
        }
      ]
    },
    {
      "cell_type": "code",
      "source": [
        "a = np.array([0,1,2,-3,-4,5,-6,-7])\n",
        "print(a)\n",
        "print(a[a < 0]) # 負の要素を取り出し\n",
        "print(a[(a < 0) & (a % 2 == 0)]) # 負で偶数の要素を取り出し\n",
        "a[a < 0] = 8 # 負の要素を8に上書き\n",
        "print(a)"
      ],
      "metadata": {
        "colab": {
          "base_uri": "https://localhost:8080/"
        },
        "id": "AIJHpaA0h9tr",
        "outputId": "57d7d129-13d0-47e7-f94a-36b69702524a"
      },
      "execution_count": null,
      "outputs": [
        {
          "output_type": "stream",
          "name": "stdout",
          "text": [
            "[ 0  1  2 -3 -4  5 -6 -7]\n",
            "[-3 -4 -6 -7]\n",
            "[-4 -6]\n",
            "[0 1 2 8 8 5 8 8]\n"
          ]
        }
      ]
    },
    {
      "cell_type": "code",
      "source": [
        "I = np.identity(3)\n",
        "print(I)\n",
        "a = np.arange(9).reshape(3,3)\n",
        "print(a)\n",
        "print(np.matmul(a, I))"
      ],
      "metadata": {
        "colab": {
          "base_uri": "https://localhost:8080/"
        },
        "id": "v5QoL2jQiJy-",
        "outputId": "1ab6ab4d-21ab-4c95-fff7-1397142746ba"
      },
      "execution_count": null,
      "outputs": [
        {
          "output_type": "stream",
          "name": "stdout",
          "text": [
            "[[1. 0. 0.]\n",
            " [0. 1. 0.]\n",
            " [0. 0. 1.]]\n",
            "[[0 1 2]\n",
            " [3 4 5]\n",
            " [6 7 8]]\n",
            "[[0. 1. 2.]\n",
            " [3. 4. 5.]\n",
            " [6. 7. 8.]]\n"
          ]
        }
      ]
    }
  ]
}