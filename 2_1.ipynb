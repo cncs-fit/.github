{
  "nbformat": 4,
  "nbformat_minor": 0,
  "metadata": {
    "colab": {
      "provenance": [],
      "authorship_tag": "ABX9TyP7amOobn1aQQIu3hWv51vL",
      "include_colab_link": true
    },
    "kernelspec": {
      "name": "python3",
      "display_name": "Python 3"
    },
    "language_info": {
      "name": "python"
    }
  },
  "cells": [
    {
      "cell_type": "markdown",
      "metadata": {
        "id": "view-in-github",
        "colab_type": "text"
      },
      "source": [
        "<a href=\"https://colab.research.google.com/github/cncs-fit/.github/blob/master/2_1.ipynb\" target=\"_parent\"><img src=\"https://colab.research.google.com/assets/colab-badge.svg\" alt=\"Open In Colab\"/></a>"
      ]
    },
    {
      "cell_type": "code",
      "execution_count": null,
      "metadata": {
        "colab": {
          "base_uri": "https://localhost:8080/",
          "height": 35
        },
        "id": "D-NfBtVTcUtO",
        "outputId": "d5c66ed2-29cf-4968-905f-1574f9b80982"
      },
      "outputs": [
        {
          "output_type": "execute_result",
          "data": {
            "text/plain": [
              "'l'"
            ],
            "application/vnd.google.colaboratory.intrinsic+json": {
              "type": "string"
            }
          },
          "metadata": {},
          "execution_count": 1
        }
      ],
      "source": [
        "'hello'[2]"
      ]
    },
    {
      "cell_type": "code",
      "source": [
        "'hello'[-1]"
      ],
      "metadata": {
        "colab": {
          "base_uri": "https://localhost:8080/",
          "height": 35
        },
        "id": "ME0uW4JgdGn1",
        "outputId": "4c24e299-facf-4c35-e3f7-67e6c93f4907"
      },
      "execution_count": null,
      "outputs": [
        {
          "output_type": "execute_result",
          "data": {
            "text/plain": [
              "'o'"
            ],
            "application/vnd.google.colaboratory.intrinsic+json": {
              "type": "string"
            }
          },
          "metadata": {},
          "execution_count": 2
        }
      ]
    },
    {
      "cell_type": "code",
      "source": [
        "digits1='0123456789'\n",
        "digits1[3:9:2]"
      ],
      "metadata": {
        "colab": {
          "base_uri": "https://localhost:8080/",
          "height": 35
        },
        "id": "dbT6D1PhdvDM",
        "outputId": "6db2cae8-1d8e-4840-f446-b512b82d06af"
      },
      "execution_count": null,
      "outputs": [
        {
          "output_type": "execute_result",
          "data": {
            "text/plain": [
              "'357'"
            ],
            "application/vnd.google.colaboratory.intrinsic+json": {
              "type": "string"
            }
          },
          "metadata": {},
          "execution_count": 3
        }
      ]
    },
    {
      "cell_type": "code",
      "source": [
        "digits1[8:4:-1]"
      ],
      "metadata": {
        "colab": {
          "base_uri": "https://localhost:8080/",
          "height": 35
        },
        "id": "WaSZE6lwd7F-",
        "outputId": "470a0e79-052e-4da1-d0d8-e0f1a2a93aac"
      },
      "execution_count": null,
      "outputs": [
        {
          "output_type": "execute_result",
          "data": {
            "text/plain": [
              "'8765'"
            ],
            "application/vnd.google.colaboratory.intrinsic+json": {
              "type": "string"
            }
          },
          "metadata": {},
          "execution_count": 4
        }
      ]
    },
    {
      "cell_type": "code",
      "source": [
        "word1 = 'hello'\n",
        "word1 * 3"
      ],
      "metadata": {
        "colab": {
          "base_uri": "https://localhost:8080/",
          "height": 35
        },
        "id": "odx8mEGheteN",
        "outputId": "6ef30f93-2ba8-423b-f0d5-9b5d31e73a2a"
      },
      "execution_count": null,
      "outputs": [
        {
          "output_type": "execute_result",
          "data": {
            "text/plain": [
              "'hellohellohello'"
            ],
            "application/vnd.google.colaboratory.intrinsic+json": {
              "type": "string"
            }
          },
          "metadata": {},
          "execution_count": 5
        }
      ]
    },
    {
      "cell_type": "code",
      "source": [
        "#練習\n",
        "def remove_punctuations(str_engsentences):\n",
        "  str_engsentences = str_engsentences.replace('.','')\n",
        "  str_engsentences = str_engsentences.replace(',','')\n",
        "  str_engsentences = str_engsentences.replace(':','')\n",
        "  str_engsentences = str_engsentences.replace(';','')\n",
        "  str_engsentences = str_engsentences.replace('!','')\n",
        "  str_engsentences = str_engsentences.replace('?','')\n",
        "  return str_engsentences"
      ],
      "metadata": {
        "id": "pYLuvJfEevsl"
      },
      "execution_count": 3,
      "outputs": []
    },
    {
      "cell_type": "code",
      "source": [
        "print(remove_punctuations('Quiet, uh, donations, you want me to make a donation to the coast guard youth auxiliary?') == 'Quiet uh donations you want me to make a donation to the coast guard youth auxiliary')\n"
      ],
      "metadata": {
        "colab": {
          "base_uri": "https://localhost:8080/"
        },
        "id": "UpRKVMTMfvCk",
        "outputId": "f0ae8269-1e57-4260-fe68-82f50f4192fd"
      },
      "execution_count": 4,
      "outputs": [
        {
          "output_type": "stream",
          "name": "stdout",
          "text": [
            "True\n"
          ]
        }
      ]
    },
    {
      "cell_type": "code",
      "source": [
        "#練習\n",
        "def atgc_bppair(str_atgc):\n",
        "  str_atgc = str_atgc.replace('A','X')\n",
        "  str_atgc = str_atgc.replace('T','A')\n",
        "  str_atgc = str_atgc.replace('X','T')\n",
        "  str_atgc = str_atgc.replace('G','Y')\n",
        "  str_atgc = str_atgc.replace('C','G')\n",
        "  str_atgc = str_atgc.replace('Y','C')\n",
        "  return str_atgc"
      ],
      "metadata": {
        "id": "2SMjdc6LgPOM"
      },
      "execution_count": 5,
      "outputs": []
    },
    {
      "cell_type": "code",
      "source": [
        "print(atgc_bppair('AAGCCCCATGGTAA') == 'TTCGGGGTACCATT')\n"
      ],
      "metadata": {
        "colab": {
          "base_uri": "https://localhost:8080/"
        },
        "id": "8f9ExDSwglG1",
        "outputId": "acde7c4b-aa67-4e20-f45f-6e4594021d5d"
      },
      "execution_count": 6,
      "outputs": [
        {
          "output_type": "stream",
          "name": "stdout",
          "text": [
            "True\n"
          ]
        }
      ]
    },
    {
      "cell_type": "code",
      "source": [
        "#練習\n",
        "def swap_colon(str1):\n",
        "  a = str1.index(':')\n",
        "  return str1[a+1:] + ':' + str1[0:a]\n"
      ],
      "metadata": {
        "id": "MyK2RoV3gu3N"
      },
      "execution_count": 7,
      "outputs": []
    },
    {
      "cell_type": "code",
      "source": [
        "print(swap_colon('hello:world') == 'world:hello')\n"
      ],
      "metadata": {
        "colab": {
          "base_uri": "https://localhost:8080/"
        },
        "id": "mDEN0jhZh8P_",
        "outputId": "e4e9b6b9-33a4-46e8-c9c1-fc87f3f3320e"
      },
      "execution_count": 8,
      "outputs": [
        {
          "output_type": "stream",
          "name": "stdout",
          "text": [
            "True\n"
          ]
        }
      ]
    },
    {
      "cell_type": "code",
      "source": [
        "#練習\n",
        "def atgc_count(str_atgc, str_bpname):\n",
        "  return str_atgc.count(str_bpname)"
      ],
      "metadata": {
        "id": "DXgeI3QCnx_7"
      },
      "execution_count": 9,
      "outputs": []
    },
    {
      "cell_type": "code",
      "source": [
        "print(atgc_count('AAGCCCCATGGTAA', 'A') == 5)\n"
      ],
      "metadata": {
        "colab": {
          "base_uri": "https://localhost:8080/"
        },
        "id": "jcZs2IBsoaZ6",
        "outputId": "46faf4ed-c8ce-48dc-cd91-a0c83db68a6f"
      },
      "execution_count": 10,
      "outputs": [
        {
          "output_type": "stream",
          "name": "stdout",
          "text": [
            "True\n"
          ]
        }
      ]
    },
    {
      "cell_type": "code",
      "source": [
        "'  abc\\n'.strip()"
      ],
      "metadata": {
        "colab": {
          "base_uri": "https://localhost:8080/",
          "height": 35
        },
        "id": "H2RRZ3B9osym",
        "outputId": "198e9a9a-562b-4cfe-db8b-fc3bd18196d9"
      },
      "execution_count": null,
      "outputs": [
        {
          "output_type": "execute_result",
          "data": {
            "text/plain": [
              "'abc'"
            ],
            "application/vnd.google.colaboratory.intrinsic+json": {
              "type": "string"
            }
          },
          "metadata": {},
          "execution_count": 31
        }
      ]
    },
    {
      "cell_type": "code",
      "source": [
        "print('abc' <= 'abc')\n",
        "print('abc' < 'abc')\n",
        "print('abc' < 'abd')\n",
        "print('ab' < 'abc')"
      ],
      "metadata": {
        "colab": {
          "base_uri": "https://localhost:8080/"
        },
        "id": "G9UVd1hJo_Gp",
        "outputId": "7c1b6b52-38b5-45ec-9613-9118f53d54c5"
      },
      "execution_count": null,
      "outputs": [
        {
          "output_type": "stream",
          "name": "stdout",
          "text": [
            "True\n",
            "False\n",
            "True\n",
            "True\n"
          ]
        }
      ]
    },
    {
      "cell_type": "code",
      "source": [
        "#練習\n",
        "def check_lower(str_engsentences):\n",
        "  a = str_engsentences.lower()\n",
        "  if str_engsentences == a:\n",
        "    return True\n",
        "  else:\n",
        "    return False"
      ],
      "metadata": {
        "id": "pQFzG3ZMpDt5"
      },
      "execution_count": 11,
      "outputs": []
    },
    {
      "cell_type": "code",
      "source": [
        "print(check_lower('down down down') == True)\n",
        "print(check_lower('There were doors all round the hall, but they were all locked') == False)"
      ],
      "metadata": {
        "colab": {
          "base_uri": "https://localhost:8080/"
        },
        "id": "fB1NivWcp3cR",
        "outputId": "c42920cb-d8ba-4769-86f2-101c264ddc37"
      },
      "execution_count": 12,
      "outputs": [
        {
          "output_type": "stream",
          "name": "stdout",
          "text": [
            "True\n",
            "True\n"
          ]
        }
      ]
    },
    {
      "cell_type": "code",
      "source": [
        "#練習\n",
        "def remove_clause(str_engsentences):\n",
        "  a = str_engsentences.index(',')\n",
        "  str_engsentences = str_engsentences[a+1:]\n",
        "  str_engsentences = str_engsentences.lstrip()\n",
        "  str_engsentences = str_engsentences.capitalize()\n",
        "  return str_engsentences"
      ],
      "metadata": {
        "id": "9KZKE6RXqbcE"
      },
      "execution_count": 13,
      "outputs": []
    },
    {
      "cell_type": "code",
      "source": [
        "print(remove_clause(\"It's being seen, but you aren't observing.\") == \"But you aren't observing.\")\n"
      ],
      "metadata": {
        "colab": {
          "base_uri": "https://localhost:8080/"
        },
        "id": "3944cgpVrLs5",
        "outputId": "3497cb62-814b-459d-cf90-62359c90ec19"
      },
      "execution_count": 14,
      "outputs": [
        {
          "output_type": "stream",
          "name": "stdout",
          "text": [
            "True\n"
          ]
        }
      ]
    }
  ]
}