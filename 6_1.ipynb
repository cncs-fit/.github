{
  "nbformat": 4,
  "nbformat_minor": 0,
  "metadata": {
    "colab": {
      "provenance": [],
      "authorship_tag": "ABX9TyNTINdDs8jDdKvusWnimLBT",
      "include_colab_link": true
    },
    "kernelspec": {
      "name": "python3",
      "display_name": "Python 3"
    },
    "language_info": {
      "name": "python"
    }
  },
  "cells": [
    {
      "cell_type": "markdown",
      "metadata": {
        "id": "view-in-github",
        "colab_type": "text"
      },
      "source": [
        "<a href=\"https://colab.research.google.com/github/cncs-fit/.github/blob/master/6_1.ipynb\" target=\"_parent\"><img src=\"https://colab.research.google.com/assets/colab-badge.svg\" alt=\"Open In Colab\"/></a>"
      ]
    },
    {
      "cell_type": "code",
      "execution_count": 1,
      "metadata": {
        "colab": {
          "base_uri": "https://localhost:8080/"
        },
        "id": "7NlqRnhFfcZ5",
        "outputId": "093309ee-0983-4f52-88c7-d8e04b3587d6"
      },
      "outputs": [
        {
          "output_type": "execute_result",
          "data": {
            "text/plain": [
              "[0, 1, 4, 9, 16, 25]"
            ]
          },
          "metadata": {},
          "execution_count": 1
        }
      ],
      "source": [
        "squares2 = [x**2 for x in range(6)]\n",
        "squares2"
      ]
    },
    {
      "cell_type": "code",
      "source": [
        "#練習\n",
        "strings = ['The', 'quick', 'brown']\n",
        "ans = [len(x) for x in strings]\n",
        "ans"
      ],
      "metadata": {
        "colab": {
          "base_uri": "https://localhost:8080/"
        },
        "id": "tStgCGjSf8hV",
        "outputId": "a5466db7-b980-4fda-b572-4443b4c1f043"
      },
      "execution_count": 1,
      "outputs": [
        {
          "output_type": "execute_result",
          "data": {
            "text/plain": [
              "[3, 5, 5]"
            ]
          },
          "metadata": {},
          "execution_count": 1
        }
      ]
    },
    {
      "cell_type": "code",
      "source": [
        "#練習\n",
        "str1 = '123,45,-3'\n",
        "ans = [int(x) for x in str1.split(',')]\n",
        "ans"
      ],
      "metadata": {
        "colab": {
          "base_uri": "https://localhost:8080/"
        },
        "id": "hP05KEQNhN8y",
        "outputId": "b4a2b7ba-fa9c-4c1b-f05d-6de3d4655aa5"
      },
      "execution_count": 2,
      "outputs": [
        {
          "output_type": "execute_result",
          "data": {
            "text/plain": [
              "[123, 45, -3]"
            ]
          },
          "metadata": {},
          "execution_count": 2
        }
      ]
    },
    {
      "cell_type": "code",
      "source": [
        "#練習\n",
        "def var(lst):\n",
        "  ave = sum(lst)/len(lst)\n",
        "  ans = [(x-ave)**2/len(lst) for x in lst]\n",
        "  return sum(ans)"
      ],
      "metadata": {
        "id": "xDf-EsD9i0O8"
      },
      "execution_count": 3,
      "outputs": []
    },
    {
      "cell_type": "code",
      "source": [
        "print(var([3,4,1,2]) == 1.25)"
      ],
      "metadata": {
        "colab": {
          "base_uri": "https://localhost:8080/"
        },
        "id": "rbx99HYOi7ZE",
        "outputId": "d41f6a1a-e2dd-4c3c-b2ab-d38d25363393"
      },
      "execution_count": 4,
      "outputs": [
        {
          "output_type": "stream",
          "name": "stdout",
          "text": [
            "True\n"
          ]
        }
      ]
    },
    {
      "cell_type": "code",
      "source": [
        "#練習\n",
        "def sum_lists(list1):\n",
        "  ans = [sum(x) for x in list1]\n",
        "  return sum(ans)"
      ],
      "metadata": {
        "id": "eKViNt4FmZSs"
      },
      "execution_count": 5,
      "outputs": []
    },
    {
      "cell_type": "code",
      "source": [
        "print(sum_lists([[20, 5], [6, 16, 14, 5], [16, 8, 16, 17, 14], [1], [5, 3, 5, 7]]) == 158)\n"
      ],
      "metadata": {
        "colab": {
          "base_uri": "https://localhost:8080/"
        },
        "id": "32U0PtW9mwAP",
        "outputId": "b4629cfa-68ea-4843-ad1f-885da3e3d351"
      },
      "execution_count": 6,
      "outputs": [
        {
          "output_type": "stream",
          "name": "stdout",
          "text": [
            "True\n"
          ]
        }
      ]
    },
    {
      "cell_type": "code",
      "source": [
        "#練習\n",
        "def sum_matrix(list1, list2):\n",
        "  list3 = [[list1[y][x] + list2[y][x] for x in range(len(list1[y])) ] for y in range(len(list1))]\n",
        "  return list3\n"
      ],
      "metadata": {
        "id": "8cddDWh9nMk3"
      },
      "execution_count": 7,
      "outputs": []
    },
    {
      "cell_type": "code",
      "source": [
        "print(sum_matrix([[1,5,3],[4,5,6],[7,8,9]], [[1,4,7],[2,5,8],[3,6,9]])==[[2, 9, 10], [6, 10, 14], [10, 14, 18]])\n"
      ],
      "metadata": {
        "colab": {
          "base_uri": "https://localhost:8080/"
        },
        "id": "ArYauuoKnM1j",
        "outputId": "770e538d-928a-4ec2-fae6-5d081973717a"
      },
      "execution_count": 8,
      "outputs": [
        {
          "output_type": "stream",
          "name": "stdout",
          "text": [
            "True\n"
          ]
        }
      ]
    },
    {
      "cell_type": "code",
      "source": [
        "words = ['cat', 'dog', 'elephant', None, 'giraffe']\n",
        "length = [len(w) for w in words if w != None]\n",
        "print(length)"
      ],
      "metadata": {
        "colab": {
          "base_uri": "https://localhost:8080/"
        },
        "id": "x53Dqf_mpN3d",
        "outputId": "181b191e-50c0-494b-ab9a-4571d743336d"
      },
      "execution_count": 24,
      "outputs": [
        {
          "output_type": "stream",
          "name": "stdout",
          "text": [
            "[3, 3, 8, 7]\n"
          ]
        }
      ]
    },
    {
      "cell_type": "code",
      "source": [
        "it = (x * 3 for x in 'abc')\n",
        "for x in it:\n",
        "    print(x)"
      ],
      "metadata": {
        "colab": {
          "base_uri": "https://localhost:8080/"
        },
        "id": "y6OWvvfPqACu",
        "outputId": "379c97d7-d699-46ad-8063-a9abb86cb873"
      },
      "execution_count": 25,
      "outputs": [
        {
          "output_type": "stream",
          "name": "stdout",
          "text": [
            "aaa\n",
            "bbb\n",
            "ccc\n"
          ]
        }
      ]
    },
    {
      "cell_type": "code",
      "source": [
        "list(x ** 2 for x in range(5))"
      ],
      "metadata": {
        "colab": {
          "base_uri": "https://localhost:8080/"
        },
        "id": "gmKsoylcqGRP",
        "outputId": "635b8586-8ce0-4acb-9b5e-fa66141009d5"
      },
      "execution_count": 26,
      "outputs": [
        {
          "output_type": "execute_result",
          "data": {
            "text/plain": [
              "[0, 1, 4, 9, 16]"
            ]
          },
          "metadata": {},
          "execution_count": 26
        }
      ]
    }
  ]
}