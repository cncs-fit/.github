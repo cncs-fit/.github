{
  "nbformat": 4,
  "nbformat_minor": 0,
  "metadata": {
    "colab": {
      "provenance": [],
      "authorship_tag": "ABX9TyMCZjau/M2be6ndPozY8VNo",
      "include_colab_link": true
    },
    "kernelspec": {
      "name": "python3",
      "display_name": "Python 3"
    },
    "language_info": {
      "name": "python"
    }
  },
  "cells": [
    {
      "cell_type": "markdown",
      "metadata": {
        "id": "view-in-github",
        "colab_type": "text"
      },
      "source": [
        "<a href=\"https://colab.research.google.com/github/cncs-fit/.github/blob/master/2_2.ipynb\" target=\"_parent\"><img src=\"https://colab.research.google.com/assets/colab-badge.svg\" alt=\"Open In Colab\"/></a>"
      ]
    },
    {
      "cell_type": "code",
      "execution_count": null,
      "metadata": {
        "colab": {
          "base_uri": "https://localhost:8080/"
        },
        "id": "yRTPXFDjuPJK",
        "outputId": "fe7fdd2b-7e0f-4f0e-d8f7-55d71bbd0293"
      },
      "outputs": [
        {
          "output_type": "execute_result",
          "data": {
            "text/plain": [
              "[10, 'apple', 20, 'banana', 30]"
            ]
          },
          "metadata": {},
          "execution_count": 1
        }
      ],
      "source": [
        "numbers_fruits = [10, 'apple', 20, 'banana', 30]\n",
        "numbers_fruits"
      ]
    },
    {
      "cell_type": "code",
      "source": [
        "#練習\n",
        "def remove_evenindex(ln):\n",
        "  ln = ln[1::2]\n",
        "  return ln"
      ],
      "metadata": {
        "id": "7bAJGTWUvPzs"
      },
      "execution_count": 1,
      "outputs": []
    },
    {
      "cell_type": "code",
      "source": [
        "print(remove_evenindex(['a', 'b', 'c', 'd', 'e', 'f', 'g']) == ['b', 'd', 'f'] )\n",
        "print(remove_evenindex([1, 2, 3, 4, 5]) == [2, 4])"
      ],
      "metadata": {
        "colab": {
          "base_uri": "https://localhost:8080/"
        },
        "id": "U8CNxF8Ivnga",
        "outputId": "518ab71c-dd20-4e0e-92b1-c25fb8f0f85c"
      },
      "execution_count": 2,
      "outputs": [
        {
          "output_type": "stream",
          "name": "stdout",
          "text": [
            "True\n",
            "True\n"
          ]
        }
      ]
    },
    {
      "cell_type": "code",
      "source": [
        "numbers = [30, 50, 10, 20, 40, 60]\n",
        "numbers.sort()\n",
        "numbers"
      ],
      "metadata": {
        "colab": {
          "base_uri": "https://localhost:8080/"
        },
        "id": "6qkk6zVF5jpy",
        "outputId": "d4bbcc4f-c46d-4eb9-a9b8-b29652bb5392"
      },
      "execution_count": null,
      "outputs": [
        {
          "output_type": "execute_result",
          "data": {
            "text/plain": [
              "[10, 20, 30, 40, 50, 60]"
            ]
          },
          "metadata": {},
          "execution_count": 10
        }
      ]
    },
    {
      "cell_type": "code",
      "source": [
        "numbers = [30, 50, 10, 20, 40, 60]\n",
        "print(sorted(numbers))\n",
        "numbers"
      ],
      "metadata": {
        "colab": {
          "base_uri": "https://localhost:8080/"
        },
        "id": "zqdpTx0d51so",
        "outputId": "c8b3294b-bc7c-4ff4-a6dc-2a7bf15e44e3"
      },
      "execution_count": null,
      "outputs": [
        {
          "output_type": "stream",
          "name": "stdout",
          "text": [
            "[10, 20, 30, 40, 50, 60]\n"
          ]
        },
        {
          "output_type": "execute_result",
          "data": {
            "text/plain": [
              "[30, 50, 10, 20, 40, 60]"
            ]
          },
          "metadata": {},
          "execution_count": 14
        }
      ]
    },
    {
      "cell_type": "code",
      "source": [
        "numbers = [10, 20, 30, 40, 50]\n",
        "numbers.extend([200, 300, 400, 200]) # numbers += [200, 300, 400, 200] と同じ\n",
        "numbers"
      ],
      "metadata": {
        "colab": {
          "base_uri": "https://localhost:8080/"
        },
        "id": "-a51InDO6o8L",
        "outputId": "8c5d67bc-835b-4efb-94a8-06a14defca90"
      },
      "execution_count": null,
      "outputs": [
        {
          "output_type": "execute_result",
          "data": {
            "text/plain": [
              "[10, 20, 30, 40, 50, 200, 300, 400, 200]"
            ]
          },
          "metadata": {},
          "execution_count": 15
        }
      ]
    },
    {
      "cell_type": "code",
      "source": [
        "numbers = [10, 20, 30, 40, 50]\n",
        "numbers.insert(1, 1000)\n",
        "numbers"
      ],
      "metadata": {
        "colab": {
          "base_uri": "https://localhost:8080/"
        },
        "id": "sYoUgtwo6qyN",
        "outputId": "514ca066-87b5-421b-f2de-a0924cf268bb"
      },
      "execution_count": null,
      "outputs": [
        {
          "output_type": "execute_result",
          "data": {
            "text/plain": [
              "[10, 1000, 20, 30, 40, 50]"
            ]
          },
          "metadata": {},
          "execution_count": 17
        }
      ]
    },
    {
      "cell_type": "code",
      "source": [
        "numbers = [10, 20, 20, 30, 20, 40]\n",
        "print(numbers.pop(3))\n",
        "print(numbers)"
      ],
      "metadata": {
        "colab": {
          "base_uri": "https://localhost:8080/"
        },
        "id": "C3zoa3hd6tNF",
        "outputId": "f7d60bd8-3d44-4a35-ce07-ed8160f997ac"
      },
      "execution_count": null,
      "outputs": [
        {
          "output_type": "stream",
          "name": "stdout",
          "text": [
            "30\n",
            "[10, 20, 20, 20, 40]\n"
          ]
        }
      ]
    },
    {
      "cell_type": "code",
      "source": [
        "numbers = [10, 20, 30, 40, 50]\n",
        "del numbers[2]\n",
        "numbers"
      ],
      "metadata": {
        "colab": {
          "base_uri": "https://localhost:8080/"
        },
        "id": "Yluk2rmZ6_0f",
        "outputId": "c7373185-26ba-4f39-c392-f69cd8f19da9"
      },
      "execution_count": null,
      "outputs": [
        {
          "output_type": "execute_result",
          "data": {
            "text/plain": [
              "[10, 20, 40, 50]"
            ]
          },
          "metadata": {},
          "execution_count": 19
        }
      ]
    },
    {
      "cell_type": "code",
      "source": [
        "list('abc123')"
      ],
      "metadata": {
        "colab": {
          "base_uri": "https://localhost:8080/"
        },
        "id": "2s391x8O7Nyo",
        "outputId": "2a65162f-b240-45c3-f061-251d9af90ddb"
      },
      "execution_count": null,
      "outputs": [
        {
          "output_type": "execute_result",
          "data": {
            "text/plain": [
              "['a', 'b', 'c', '1', '2', '3']"
            ]
          },
          "metadata": {},
          "execution_count": 20
        }
      ]
    },
    {
      "cell_type": "code",
      "source": [
        "''.join(['a', 'b', 'c', '1', '2', '3'])"
      ],
      "metadata": {
        "colab": {
          "base_uri": "https://localhost:8080/",
          "height": 35
        },
        "id": "wPcqJmcY7pjQ",
        "outputId": "0f310d0d-55c8-4b60-d1fc-6d82f3b3b661"
      },
      "execution_count": null,
      "outputs": [
        {
          "output_type": "execute_result",
          "data": {
            "text/plain": [
              "'abc123'"
            ],
            "application/vnd.google.colaboratory.intrinsic+json": {
              "type": "string"
            }
          },
          "metadata": {},
          "execution_count": 21
        }
      ]
    },
    {
      "cell_type": "code",
      "source": [
        "#練習\n",
        "def change_domain(email, domain):\n",
        "  el = list(email)\n",
        "  i = el.index('@')\n",
        "  del el[i+1:]\n",
        "  email = ''.join(el)\n",
        "  return email + domain\n"
      ],
      "metadata": {
        "id": "bhnzHeWC7wSO"
      },
      "execution_count": 3,
      "outputs": []
    },
    {
      "cell_type": "code",
      "source": [
        "print(change_domain('spam@utokyo-ipp.org', 'ipp.u-tokyo.ac.jp') == 'spam@ipp.u-tokyo.ac.jp')\n"
      ],
      "metadata": {
        "colab": {
          "base_uri": "https://localhost:8080/"
        },
        "id": "raJKTv-R79fh",
        "outputId": "751470e5-8ccc-4c44-efd7-67ca220b7e7d"
      },
      "execution_count": 4,
      "outputs": [
        {
          "output_type": "stream",
          "name": "stdout",
          "text": [
            "True\n"
          ]
        }
      ]
    },
    {
      "cell_type": "code",
      "source": [
        "onlyone = (1,)\n",
        "onlyone"
      ],
      "metadata": {
        "colab": {
          "base_uri": "https://localhost:8080/"
        },
        "id": "8OK0ALzm9uya",
        "outputId": "30cfa164-3415-41a8-a154-99607a17c180"
      },
      "execution_count": null,
      "outputs": [
        {
          "output_type": "execute_result",
          "data": {
            "text/plain": [
              "(1,)"
            ]
          },
          "metadata": {},
          "execution_count": 27
        }
      ]
    },
    {
      "cell_type": "code",
      "source": [
        "numbers3 = (1, 2, 3)\n",
        "list(numbers3)"
      ],
      "metadata": {
        "colab": {
          "base_uri": "https://localhost:8080/"
        },
        "id": "0zgWR-Hz-TYc",
        "outputId": "cd5ad331-61e8-4586-8331-d6c75b9ad4d2"
      },
      "execution_count": null,
      "outputs": [
        {
          "output_type": "execute_result",
          "data": {
            "text/plain": [
              "[1, 2, 3]"
            ]
          },
          "metadata": {},
          "execution_count": 28
        }
      ]
    },
    {
      "cell_type": "code",
      "source": [
        "numbers2 = [1, 2]\n",
        "tuple(numbers2)"
      ],
      "metadata": {
        "colab": {
          "base_uri": "https://localhost:8080/"
        },
        "id": "9WDi5OpB-Y44",
        "outputId": "8a8acb94-14f3-4715-a411-f753802d3f27"
      },
      "execution_count": null,
      "outputs": [
        {
          "output_type": "execute_result",
          "data": {
            "text/plain": [
              "(1, 2)"
            ]
          },
          "metadata": {},
          "execution_count": 29
        }
      ]
    },
    {
      "cell_type": "code",
      "source": [
        "#練習\n",
        "def reverse_totuple(ln):\n",
        "  ln.reverse()\n",
        "  return tuple(ln)"
      ],
      "metadata": {
        "id": "5D1W9BaR-bq6"
      },
      "execution_count": 5,
      "outputs": []
    },
    {
      "cell_type": "code",
      "source": [
        "print(reverse_totuple([1, 2, 3, 4, 5]) == (5, 4, 3, 2, 1))"
      ],
      "metadata": {
        "colab": {
          "base_uri": "https://localhost:8080/"
        },
        "id": "i4aDU4Nr-4bX",
        "outputId": "9f29dcac-7f37-417b-bb84-deee3a999c8c"
      },
      "execution_count": 6,
      "outputs": [
        {
          "output_type": "stream",
          "name": "stdout",
          "text": [
            "True\n"
          ]
        }
      ]
    },
    {
      "cell_type": "code",
      "source": [
        "ls = [0,1,2]\n",
        "\n",
        "for value in ls:\n",
        "    print('For loop:', value)"
      ],
      "metadata": {
        "colab": {
          "base_uri": "https://localhost:8080/"
        },
        "id": "UUT5yxDrAIMk",
        "outputId": "873f5316-e8eb-4e0f-c23a-541b4ccabd49"
      },
      "execution_count": null,
      "outputs": [
        {
          "output_type": "stream",
          "name": "stdout",
          "text": [
            "For loop: 0\n",
            "For loop: 1\n",
            "For loop: 2\n"
          ]
        }
      ]
    },
    {
      "cell_type": "code",
      "source": [
        "#練習\n",
        "def sum_list(ln):\n",
        "  return sum(ln)"
      ],
      "metadata": {
        "id": "sVmBlzNHBEyG"
      },
      "execution_count": 7,
      "outputs": []
    },
    {
      "cell_type": "code",
      "source": [
        "print(sum_list([10, 20, 30]) == 60)\n",
        "print(sum_list([-1, 2, -3, 4, -5]) == -3)"
      ],
      "metadata": {
        "colab": {
          "base_uri": "https://localhost:8080/"
        },
        "id": "tWJAQ_ZxBrvC",
        "outputId": "b1374830-631e-4502-8126-8ea23e56c300"
      },
      "execution_count": 8,
      "outputs": [
        {
          "output_type": "stream",
          "name": "stdout",
          "text": [
            "True\n",
            "True\n"
          ]
        }
      ]
    },
    {
      "cell_type": "code",
      "source": [
        "#練習\n",
        "def atgc_countlist(str_atgc):\n",
        "  ans = [[0,'A'],[0,'T'],[0,'G'],[0,'C']]\n",
        "  i = 0\n",
        "  l = ['A','T','G','C']\n",
        "  for x in l:\n",
        "    ans[i][0] = str_atgc.count(x)\n",
        "    i += 1\n",
        "  return ans"
      ],
      "metadata": {
        "id": "DFDJbvPpB8PN"
      },
      "execution_count": 9,
      "outputs": []
    },
    {
      "cell_type": "code",
      "source": [
        "print(sorted(atgc_countlist('AAGCCCCATGGTAA')) == sorted([[5, 'A'], [2, 'T'], [3, 'G'], [4, 'C']]))\n"
      ],
      "metadata": {
        "colab": {
          "base_uri": "https://localhost:8080/"
        },
        "id": "n4QPkzuZEI4N",
        "outputId": "4399dfb5-6360-4b47-b205-1c0bdcce6378"
      },
      "execution_count": 10,
      "outputs": [
        {
          "output_type": "stream",
          "name": "stdout",
          "text": [
            "True\n"
          ]
        }
      ]
    },
    {
      "cell_type": "code",
      "source": [
        "squares2 = [x**2 for x in numbers]\n",
        "squares2"
      ],
      "metadata": {
        "id": "iuDfzbThFhSH",
        "outputId": "2f92e131-20a1-4de9-b83d-f0764a717f0d",
        "colab": {
          "base_uri": "https://localhost:8080/"
        }
      },
      "execution_count": null,
      "outputs": [
        {
          "output_type": "execute_result",
          "data": {
            "text/plain": [
              "[100, 400, 1600, 2500]"
            ]
          },
          "metadata": {},
          "execution_count": 56
        }
      ]
    }
  ]
}